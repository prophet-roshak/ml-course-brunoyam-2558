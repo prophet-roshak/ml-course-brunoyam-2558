{
 "cells": [
  {
   "cell_type": "code",
   "execution_count": 1,
   "metadata": {},
   "outputs": [],
   "source": [
    "import numpy as np\n",
    "import pandas as pd\n",
    "import matplotlib.pyplot as plt"
   ]
  },
  {
   "cell_type": "markdown",
   "metadata": {},
   "source": [
    "# Numpy"
   ]
  },
  {
   "cell_type": "markdown",
   "metadata": {},
   "source": [
    "## Задача\n",
    "\n",
    "Сгенерировать вектор из 100 элементов и превратить его в:\n",
    "\n",
    "- матрицу 10x10\n",
    "- вектор 1x100\n",
    "- вектор 100x1"
   ]
  },
  {
   "cell_type": "code",
   "execution_count": 2,
   "metadata": {},
   "outputs": [
    {
     "name": "stdout",
     "output_type": "stream",
     "text": [
      "(10, 10) (1, 100) (100, 1)\n"
     ]
    }
   ],
   "source": [
    "vector = np.arange(100)\n",
    "\n",
    "matrix10 = vector.reshape(10, 10)\n",
    "vec1 = vector.reshape(1, 100)\n",
    "vec2 = vector.reshape(100, 1)\n",
    "\n",
    "print(matrix10.shape, vec1.shape, vec2.shape)"
   ]
  },
  {
   "cell_type": "markdown",
   "metadata": {},
   "source": [
    "## Задача - Решение СЛАУ\n",
    "\n",
    "$Ax = b$\n",
    "\n",
    "Функция обратной матрицы - `np.linalg.inv(A)`"
   ]
  },
  {
   "cell_type": "markdown",
   "metadata": {},
   "source": [
    "Решение СЛАУ выглядит так:\n",
    "\n",
    "$Ax = b$\n",
    "\n",
    "$A^{-1}Ax=A^{-1}b$\n",
    "\n",
    "$x=A^{-1}b$"
   ]
  },
  {
   "cell_type": "code",
   "execution_count": 3,
   "metadata": {},
   "outputs": [
    {
     "data": {
      "text/plain": [
       "array([1.11022302e-16, 3.00000000e+00])"
      ]
     },
     "execution_count": 3,
     "metadata": {},
     "output_type": "execute_result"
    }
   ],
   "source": [
    "A = np.array([\n",
    "    [3, -2],\n",
    "    [5, 1]]\n",
    ")\n",
    "b = np.array([-6, 3])\n",
    "# Решение - [0, 3]\n",
    "x = np.linalg.inv(A) @ b\n",
    "x"
   ]
  },
  {
   "cell_type": "code",
   "execution_count": 4,
   "metadata": {},
   "outputs": [
    {
     "data": {
      "text/plain": [
       "array([0., 3.])"
      ]
     },
     "execution_count": 4,
     "metadata": {},
     "output_type": "execute_result"
    }
   ],
   "source": [
    "np.linalg.solve(A, b)"
   ]
  },
  {
   "cell_type": "markdown",
   "metadata": {},
   "source": [
    "## Задача\n",
    "\n",
    "Сгенерировать случайную матрицу и посчитать сумму положительных элементов в каждой строке, в каждом столбце."
   ]
  },
  {
   "cell_type": "code",
   "execution_count": 5,
   "metadata": {},
   "outputs": [],
   "source": [
    "a = np.random.uniform(-1, 1, size=(5, 3))\n",
    "a[a < 0] = 0"
   ]
  },
  {
   "cell_type": "code",
   "execution_count": 6,
   "metadata": {},
   "outputs": [
    {
     "data": {
      "text/plain": [
       "array([0.22441064, 0.97982425, 0.19784682])"
      ]
     },
     "execution_count": 6,
     "metadata": {},
     "output_type": "execute_result"
    }
   ],
   "source": [
    "a.sum(axis=0)"
   ]
  },
  {
   "cell_type": "code",
   "execution_count": 7,
   "metadata": {},
   "outputs": [
    {
     "data": {
      "text/plain": [
       "array([0.        , 0.14535151, 0.22441064, 0.        , 1.03231956])"
      ]
     },
     "execution_count": 7,
     "metadata": {},
     "output_type": "execute_result"
    }
   ],
   "source": [
    "a.sum(axis=1)"
   ]
  },
  {
   "cell_type": "markdown",
   "metadata": {},
   "source": [
    "## Задача\n",
    "\n",
    "Вывести матрицу из нулей и единиц в шахматном порядке"
   ]
  },
  {
   "cell_type": "code",
   "execution_count": 8,
   "metadata": {},
   "outputs": [
    {
     "data": {
      "text/plain": [
       "array([[1., 0., 1., 0., 1.],\n",
       "       [0., 1., 0., 1., 0.],\n",
       "       [1., 0., 1., 0., 1.],\n",
       "       [0., 1., 0., 1., 0.],\n",
       "       [1., 0., 1., 0., 1.]])"
      ]
     },
     "execution_count": 8,
     "metadata": {},
     "output_type": "execute_result"
    }
   ],
   "source": [
    "n = 5\n",
    "m = np.zeros((n, n))\n",
    "\n",
    "m[::2, ::2] = 1\n",
    "m[1::2, 1::2] = 1\n",
    "\n",
    "m"
   ]
  },
  {
   "cell_type": "markdown",
   "metadata": {},
   "source": [
    "## Задача\n",
    "\n",
    "Решим СЛАУ 2 порядка методом Крамера\n",
    "\n",
    "https://ru.wikipedia.org/wiki/%D0%9C%D0%B5%D1%82%D0%BE%D0%B4_%D0%9A%D1%80%D0%B0%D0%BC%D0%B5%D1%80%D0%B0\n",
    "\n",
    "На практике этот метод неэффективен, но зато позволяет разобраться с индексацией"
   ]
  },
  {
   "cell_type": "code",
   "execution_count": 9,
   "metadata": {},
   "outputs": [
    {
     "name": "stdout",
     "output_type": "stream",
     "text": [
      "[0.0, 2.9999999999999996]\n"
     ]
    }
   ],
   "source": [
    "A = np.array([\n",
    "    [3, -2],\n",
    "    [5, 1]]\n",
    ")\n",
    "b = np.array([-6, 3])\n",
    "\n",
    "A1 = A.copy()\n",
    "A2 = A.copy()\n",
    "\n",
    "A1[:, 0] = b\n",
    "A2[:, 1] = b\n",
    "\n",
    "delta = np.linalg.det(A)\n",
    "delta1 = np.linalg.det(A1)\n",
    "delta2 = np.linalg.det(A2)\n",
    "\n",
    "if delta == 0:\n",
    "    x = None\n",
    "    print('Корней нет')\n",
    "else:\n",
    "    x = [delta1 / delta, delta2 / delta]\n",
    "    print(x)"
   ]
  },
  {
   "cell_type": "markdown",
   "metadata": {},
   "source": [
    "Решение можно оформить в функцию"
   ]
  },
  {
   "cell_type": "code",
   "execution_count": 10,
   "metadata": {},
   "outputs": [],
   "source": [
    "def solve_cramer(A, b):\n",
    "    A1 = A.copy()\n",
    "    A2 = A.copy()\n",
    "    A1[:, 0] = b\n",
    "    A2[:, 1] = b\n",
    "\n",
    "    delta = np.linalg.det(A)\n",
    "    delta1 = np.linalg.det(A1)\n",
    "    delta2 = np.linalg.det(A2)\n",
    "\n",
    "    if delta == 0:\n",
    "        return None\n",
    "    else:\n",
    "        return [delta1 / delta, delta2 / delta]"
   ]
  },
  {
   "cell_type": "markdown",
   "metadata": {},
   "source": [
    "Сравним скорость решения метода Крамера и стандартного способа, реализованного в numpy"
   ]
  },
  {
   "cell_type": "code",
   "execution_count": 11,
   "metadata": {},
   "outputs": [
    {
     "name": "stdout",
     "output_type": "stream",
     "text": [
      "17.3 µs ± 292 ns per loop (mean ± std. dev. of 7 runs, 100000 loops each)\n"
     ]
    }
   ],
   "source": [
    "%%timeit\n",
    "solve_cramer(A, b)"
   ]
  },
  {
   "cell_type": "code",
   "execution_count": 12,
   "metadata": {},
   "outputs": [
    {
     "name": "stdout",
     "output_type": "stream",
     "text": [
      "7.19 µs ± 95.1 ns per loop (mean ± std. dev. of 7 runs, 100000 loops each)\n"
     ]
    }
   ],
   "source": [
    "%%timeit\n",
    "np.linalg.solve(A, b)"
   ]
  },
  {
   "cell_type": "markdown",
   "metadata": {},
   "source": [
    "numpy решает в 3 раза быстрее даже для матрицы 2х2"
   ]
  },
  {
   "cell_type": "markdown",
   "metadata": {},
   "source": [
    "# Pandas"
   ]
  },
  {
   "cell_type": "markdown",
   "metadata": {},
   "source": [
    "## Задача\n",
    "\n",
    "Посчитать средний рост для высоких людей"
   ]
  },
  {
   "cell_type": "code",
   "execution_count": 13,
   "metadata": {},
   "outputs": [
    {
     "data": {
      "text/html": [
       "<div>\n",
       "<style scoped>\n",
       "    .dataframe tbody tr th:only-of-type {\n",
       "        vertical-align: middle;\n",
       "    }\n",
       "\n",
       "    .dataframe tbody tr th {\n",
       "        vertical-align: top;\n",
       "    }\n",
       "\n",
       "    .dataframe thead th {\n",
       "        text-align: right;\n",
       "    }\n",
       "</style>\n",
       "<table border=\"1\" class=\"dataframe\">\n",
       "  <thead>\n",
       "    <tr style=\"text-align: right;\">\n",
       "      <th></th>\n",
       "      <th>age</th>\n",
       "      <th>height</th>\n",
       "      <th>name</th>\n",
       "      <th>height_category</th>\n",
       "    </tr>\n",
       "  </thead>\n",
       "  <tbody>\n",
       "    <tr>\n",
       "      <th>0</th>\n",
       "      <td>25</td>\n",
       "      <td>170</td>\n",
       "      <td>Alex</td>\n",
       "      <td>низкий</td>\n",
       "    </tr>\n",
       "    <tr>\n",
       "      <th>1</th>\n",
       "      <td>35</td>\n",
       "      <td>180</td>\n",
       "      <td>Polina</td>\n",
       "      <td>высокий</td>\n",
       "    </tr>\n",
       "    <tr>\n",
       "      <th>2</th>\n",
       "      <td>45</td>\n",
       "      <td>190</td>\n",
       "      <td>Misha</td>\n",
       "      <td>высокий</td>\n",
       "    </tr>\n",
       "  </tbody>\n",
       "</table>\n",
       "</div>"
      ],
      "text/plain": [
       "   age  height    name height_category\n",
       "0   25     170    Alex          низкий\n",
       "1   35     180  Polina         высокий\n",
       "2   45     190   Misha         высокий"
      ]
     },
     "execution_count": 13,
     "metadata": {},
     "output_type": "execute_result"
    }
   ],
   "source": [
    "# Сгенерируем датафрейм\n",
    "ages = [25, 35, 45]\n",
    "heights = [170, 180, 190]\n",
    "names = [\"Alex\", \"Polina\", \"Misha\"]\n",
    "data = {'age': ages, 'height': heights, 'name': names}\n",
    "df = pd.DataFrame(data)\n",
    "df[\"height_category\"] = df[\"height\"].apply(lambda x: \"высокий\" if x > 175 else \"низкий\")\n",
    "df"
   ]
  },
  {
   "cell_type": "code",
   "execution_count": 14,
   "metadata": {},
   "outputs": [
    {
     "data": {
      "text/plain": [
       "185.0"
      ]
     },
     "execution_count": 14,
     "metadata": {},
     "output_type": "execute_result"
    }
   ],
   "source": [
    "df.loc[df['height_category'] == 'высокий', 'height'].mean()"
   ]
  },
  {
   "cell_type": "markdown",
   "metadata": {},
   "source": [
    "## Задача\n",
    "\n",
    "Вывести среднюю температуру за январь 2010 года"
   ]
  },
  {
   "cell_type": "code",
   "execution_count": 15,
   "metadata": {},
   "outputs": [
    {
     "data": {
      "text/html": [
       "<div>\n",
       "<style scoped>\n",
       "    .dataframe tbody tr th:only-of-type {\n",
       "        vertical-align: middle;\n",
       "    }\n",
       "\n",
       "    .dataframe tbody tr th {\n",
       "        vertical-align: top;\n",
       "    }\n",
       "\n",
       "    .dataframe thead th {\n",
       "        text-align: right;\n",
       "    }\n",
       "</style>\n",
       "<table border=\"1\" class=\"dataframe\">\n",
       "  <thead>\n",
       "    <tr style=\"text-align: right;\">\n",
       "      <th></th>\n",
       "      <th>Day</th>\n",
       "      <th>t</th>\n",
       "      <th>year</th>\n",
       "      <th>month</th>\n",
       "      <th>day</th>\n",
       "    </tr>\n",
       "  </thead>\n",
       "  <tbody>\n",
       "    <tr>\n",
       "      <th>0</th>\n",
       "      <td>2008-01-01</td>\n",
       "      <td>0</td>\n",
       "      <td>2008</td>\n",
       "      <td>1</td>\n",
       "      <td>1</td>\n",
       "    </tr>\n",
       "    <tr>\n",
       "      <th>1</th>\n",
       "      <td>2008-01-02</td>\n",
       "      <td>-5</td>\n",
       "      <td>2008</td>\n",
       "      <td>1</td>\n",
       "      <td>2</td>\n",
       "    </tr>\n",
       "    <tr>\n",
       "      <th>2</th>\n",
       "      <td>2008-01-03</td>\n",
       "      <td>-11</td>\n",
       "      <td>2008</td>\n",
       "      <td>1</td>\n",
       "      <td>3</td>\n",
       "    </tr>\n",
       "    <tr>\n",
       "      <th>3</th>\n",
       "      <td>2008-01-04</td>\n",
       "      <td>-11</td>\n",
       "      <td>2008</td>\n",
       "      <td>1</td>\n",
       "      <td>4</td>\n",
       "    </tr>\n",
       "    <tr>\n",
       "      <th>4</th>\n",
       "      <td>2008-01-05</td>\n",
       "      <td>-12</td>\n",
       "      <td>2008</td>\n",
       "      <td>1</td>\n",
       "      <td>5</td>\n",
       "    </tr>\n",
       "  </tbody>\n",
       "</table>\n",
       "</div>"
      ],
      "text/plain": [
       "         Day   t  year  month  day\n",
       "0 2008-01-01   0  2008      1    1\n",
       "1 2008-01-02  -5  2008      1    2\n",
       "2 2008-01-03 -11  2008      1    3\n",
       "3 2008-01-04 -11  2008      1    4\n",
       "4 2008-01-05 -12  2008      1    5"
      ]
     },
     "execution_count": 15,
     "metadata": {},
     "output_type": "execute_result"
    }
   ],
   "source": [
    "# Прочитаем данные\n",
    "df = pd.read_csv('../data/weather.csv')\n",
    "df[\"Day\"] = pd.to_datetime(df[\"Day\"])\n",
    "df[\"year\"] = df.Day.dt.year\n",
    "df[\"month\"] = df.Day.dt.month\n",
    "df[\"day\"] = df.Day.dt.day\n",
    "df.head()"
   ]
  },
  {
   "cell_type": "code",
   "execution_count": 16,
   "metadata": {},
   "outputs": [
    {
     "data": {
      "text/plain": [
       "-11.419354838709678"
      ]
     },
     "execution_count": 16,
     "metadata": {},
     "output_type": "execute_result"
    }
   ],
   "source": [
    "df.loc[(df['year'] == 2010) & (df['month'] == 1), 't'].mean()"
   ]
  },
  {
   "cell_type": "markdown",
   "metadata": {},
   "source": [
    "## Задания\n",
    "\n",
    "Стараемся избегать циклов\n",
    "\n",
    "### Easy\n",
    "- Найти насколько отличалась температура в самый жаркий и самый холодный день"
   ]
  },
  {
   "cell_type": "code",
   "execution_count": 17,
   "metadata": {},
   "outputs": [
    {
     "data": {
      "text/plain": [
       "57"
      ]
     },
     "execution_count": 17,
     "metadata": {},
     "output_type": "execute_result"
    }
   ],
   "source": [
    "abs(df['t'].min() - df['t'].max())"
   ]
  },
  {
   "cell_type": "markdown",
   "metadata": {},
   "source": [
    "### Normal\n",
    "- Вывести среднюю температуру за каждый год"
   ]
  },
  {
   "cell_type": "code",
   "execution_count": 18,
   "metadata": {},
   "outputs": [
    {
     "data": {
      "text/plain": [
       "year\n",
       "2008    8.545205\n",
       "2009    7.610959\n",
       "2010    7.117808\n",
       "2011    8.337912\n",
       "2012    6.980822\n",
       "2013    8.728767\n",
       "2014    8.931507\n",
       "2015    9.079452\n",
       "2016    7.907104\n",
       "Name: t, dtype: float64"
      ]
     },
     "execution_count": 18,
     "metadata": {},
     "output_type": "execute_result"
    }
   ],
   "source": [
    "df.groupby('year').mean()['t']"
   ]
  },
  {
   "cell_type": "markdown",
   "metadata": {},
   "source": [
    "### Hard\n",
    "- Вывести день, в который максимально изменилась температура\n",
    "\n",
    "Подсказка: `diff()`"
   ]
  },
  {
   "cell_type": "markdown",
   "metadata": {},
   "source": [
    "## Решение\n",
    "\n",
    "С помощью `diff` посчитаем разницу между соседними днями"
   ]
  },
  {
   "cell_type": "code",
   "execution_count": 19,
   "metadata": {},
   "outputs": [
    {
     "data": {
      "text/plain": [
       "0        NaN\n",
       "1       -5.0\n",
       "2       -6.0\n",
       "3        0.0\n",
       "4       -1.0\n",
       "5       -2.0\n",
       "6        8.0\n",
       "7       -1.0\n",
       "8        1.0\n",
       "9        6.0\n",
       "10       2.0\n",
       "11       1.0\n",
       "12      -1.0\n",
       "13       1.0\n",
       "14      -1.0\n",
       "15       0.0\n",
       "16       0.0\n",
       "17      -1.0\n",
       "18       0.0\n",
       "19       1.0\n",
       "20       0.0\n",
       "21      -1.0\n",
       "22      -2.0\n",
       "23       0.0\n",
       "24       3.0\n",
       "25      -1.0\n",
       "26      -2.0\n",
       "27      -3.0\n",
       "28       4.0\n",
       "29       2.0\n",
       "        ... \n",
       "3255    -2.0\n",
       "3256    -1.0\n",
       "3257    -6.0\n",
       "3258    12.0\n",
       "3259   -11.0\n",
       "3260     6.0\n",
       "3261     3.0\n",
       "3262     0.0\n",
       "3263    -6.0\n",
       "3264    -1.0\n",
       "3265    -1.0\n",
       "3266     1.0\n",
       "3267     3.0\n",
       "3268     0.0\n",
       "3269     2.0\n",
       "3270     1.0\n",
       "3271     0.0\n",
       "3272     1.0\n",
       "3273     1.0\n",
       "3274    -1.0\n",
       "3275     2.0\n",
       "3276     0.0\n",
       "3277    -1.0\n",
       "3278     1.0\n",
       "3279     2.0\n",
       "3280    -4.0\n",
       "3281    -4.0\n",
       "3282     3.0\n",
       "3283     3.0\n",
       "3284     1.0\n",
       "Name: t, Length: 3285, dtype: float64"
      ]
     },
     "execution_count": 19,
     "metadata": {},
     "output_type": "execute_result"
    }
   ],
   "source": [
    "df['t'].diff()"
   ]
  },
  {
   "cell_type": "markdown",
   "metadata": {},
   "source": [
    "Видим, что есть отрицательные значения, но нам не важно в какую сторону менялась температура, поэтому берем абсолютное значение.\n",
    "\n",
    "Также есть `NaN`, но для решения этой задачи это не должно быть проблемой"
   ]
  },
  {
   "cell_type": "code",
   "execution_count": 20,
   "metadata": {},
   "outputs": [
    {
     "data": {
      "text/plain": [
       "0        NaN\n",
       "1        5.0\n",
       "2        6.0\n",
       "3        0.0\n",
       "4        1.0\n",
       "5        2.0\n",
       "6        8.0\n",
       "7        1.0\n",
       "8        1.0\n",
       "9        6.0\n",
       "10       2.0\n",
       "11       1.0\n",
       "12       1.0\n",
       "13       1.0\n",
       "14       1.0\n",
       "15       0.0\n",
       "16       0.0\n",
       "17       1.0\n",
       "18       0.0\n",
       "19       1.0\n",
       "20       0.0\n",
       "21       1.0\n",
       "22       2.0\n",
       "23       0.0\n",
       "24       3.0\n",
       "25       1.0\n",
       "26       2.0\n",
       "27       3.0\n",
       "28       4.0\n",
       "29       2.0\n",
       "        ... \n",
       "3255     2.0\n",
       "3256     1.0\n",
       "3257     6.0\n",
       "3258    12.0\n",
       "3259    11.0\n",
       "3260     6.0\n",
       "3261     3.0\n",
       "3262     0.0\n",
       "3263     6.0\n",
       "3264     1.0\n",
       "3265     1.0\n",
       "3266     1.0\n",
       "3267     3.0\n",
       "3268     0.0\n",
       "3269     2.0\n",
       "3270     1.0\n",
       "3271     0.0\n",
       "3272     1.0\n",
       "3273     1.0\n",
       "3274     1.0\n",
       "3275     2.0\n",
       "3276     0.0\n",
       "3277     1.0\n",
       "3278     1.0\n",
       "3279     2.0\n",
       "3280     4.0\n",
       "3281     4.0\n",
       "3282     3.0\n",
       "3283     3.0\n",
       "3284     1.0\n",
       "Name: t, Length: 3285, dtype: float64"
      ]
     },
     "execution_count": 20,
     "metadata": {},
     "output_type": "execute_result"
    }
   ],
   "source": [
    "abs(df['t'].diff())"
   ]
  },
  {
   "cell_type": "markdown",
   "metadata": {},
   "source": [
    "Сохраним это в новую колонку, чтобы дальше ее использовать"
   ]
  },
  {
   "cell_type": "code",
   "execution_count": 21,
   "metadata": {},
   "outputs": [],
   "source": [
    "df['diff_t'] = abs(df['t'].diff())"
   ]
  },
  {
   "cell_type": "markdown",
   "metadata": {},
   "source": [
    "Теперь надо найти максимальное значение и посмотреть в каком дне это было. Максимум можно найти при помощи функции `max`"
   ]
  },
  {
   "cell_type": "code",
   "execution_count": 22,
   "metadata": {},
   "outputs": [
    {
     "data": {
      "text/plain": [
       "15.0"
      ]
     },
     "execution_count": 22,
     "metadata": {},
     "output_type": "execute_result"
    }
   ],
   "source": [
    "df['diff_t'].max()"
   ]
  },
  {
   "cell_type": "code",
   "execution_count": 23,
   "metadata": {},
   "outputs": [
    {
     "data": {
      "text/html": [
       "<div>\n",
       "<style scoped>\n",
       "    .dataframe tbody tr th:only-of-type {\n",
       "        vertical-align: middle;\n",
       "    }\n",
       "\n",
       "    .dataframe tbody tr th {\n",
       "        vertical-align: top;\n",
       "    }\n",
       "\n",
       "    .dataframe thead th {\n",
       "        text-align: right;\n",
       "    }\n",
       "</style>\n",
       "<table border=\"1\" class=\"dataframe\">\n",
       "  <thead>\n",
       "    <tr style=\"text-align: right;\">\n",
       "      <th></th>\n",
       "      <th>Day</th>\n",
       "      <th>t</th>\n",
       "      <th>year</th>\n",
       "      <th>month</th>\n",
       "      <th>day</th>\n",
       "      <th>diff_t</th>\n",
       "    </tr>\n",
       "  </thead>\n",
       "  <tbody>\n",
       "    <tr>\n",
       "      <th>2335</th>\n",
       "      <td>2014-05-27</td>\n",
       "      <td>7</td>\n",
       "      <td>2014</td>\n",
       "      <td>5</td>\n",
       "      <td>27</td>\n",
       "      <td>15.0</td>\n",
       "    </tr>\n",
       "  </tbody>\n",
       "</table>\n",
       "</div>"
      ],
      "text/plain": [
       "            Day  t  year  month  day  diff_t\n",
       "2335 2014-05-27  7  2014      5   27    15.0"
      ]
     },
     "execution_count": 23,
     "metadata": {},
     "output_type": "execute_result"
    }
   ],
   "source": [
    "df[df['diff_t'] == 15]"
   ]
  },
  {
   "cell_type": "markdown",
   "metadata": {},
   "source": [
    "Можно не писать фильтрацию, а просто воспользоваться функцией argmax, которая вернет индекс максимального значения"
   ]
  },
  {
   "cell_type": "code",
   "execution_count": 24,
   "metadata": {},
   "outputs": [
    {
     "name": "stderr",
     "output_type": "stream",
     "text": [
      "C:\\ProgramData\\Anaconda3\\lib\\site-packages\\ipykernel_launcher.py:1: FutureWarning: 'argmax' is deprecated, use 'idxmax' instead. The behavior of 'argmax'\n",
      "will be corrected to return the positional maximum in the future.\n",
      "Use 'series.values.argmax' to get the position of the maximum now.\n",
      "  \"\"\"Entry point for launching an IPython kernel.\n"
     ]
    },
    {
     "data": {
      "text/plain": [
       "2335"
      ]
     },
     "execution_count": 24,
     "metadata": {},
     "output_type": "execute_result"
    }
   ],
   "source": [
    "df['diff_t'].argmax()"
   ]
  },
  {
   "cell_type": "markdown",
   "metadata": {},
   "source": [
    "Ну и решим задачу окончательно"
   ]
  },
  {
   "cell_type": "code",
   "execution_count": 25,
   "metadata": {},
   "outputs": [
    {
     "name": "stderr",
     "output_type": "stream",
     "text": [
      "C:\\ProgramData\\Anaconda3\\lib\\site-packages\\ipykernel_launcher.py:1: FutureWarning: 'argmax' is deprecated, use 'idxmax' instead. The behavior of 'argmax'\n",
      "will be corrected to return the positional maximum in the future.\n",
      "Use 'series.values.argmax' to get the position of the maximum now.\n",
      "  \"\"\"Entry point for launching an IPython kernel.\n"
     ]
    },
    {
     "data": {
      "text/plain": [
       "Day       2014-05-27 00:00:00\n",
       "t                           7\n",
       "year                     2014\n",
       "month                       5\n",
       "day                        27\n",
       "diff_t                     15\n",
       "Name: 2335, dtype: object"
      ]
     },
     "execution_count": 25,
     "metadata": {},
     "output_type": "execute_result"
    }
   ],
   "source": [
    "df.loc[df['diff_t'].argmax()]"
   ]
  },
  {
   "cell_type": "markdown",
   "metadata": {},
   "source": [
    "Вся задача решается в две строки:"
   ]
  },
  {
   "cell_type": "code",
   "execution_count": 26,
   "metadata": {},
   "outputs": [
    {
     "name": "stderr",
     "output_type": "stream",
     "text": [
      "C:\\ProgramData\\Anaconda3\\lib\\site-packages\\ipykernel_launcher.py:2: FutureWarning: 'argmax' is deprecated, use 'idxmax' instead. The behavior of 'argmax'\n",
      "will be corrected to return the positional maximum in the future.\n",
      "Use 'series.values.argmax' to get the position of the maximum now.\n",
      "  \n"
     ]
    },
    {
     "data": {
      "text/plain": [
       "Day       2014-05-27 00:00:00\n",
       "t                           7\n",
       "year                     2014\n",
       "month                       5\n",
       "day                        27\n",
       "diff_t                     15\n",
       "Name: 2335, dtype: object"
      ]
     },
     "execution_count": 26,
     "metadata": {},
     "output_type": "execute_result"
    }
   ],
   "source": [
    "df['diff_t'] = abs(df['t'].diff())\n",
    "df.loc[df['diff_t'].argmax()]"
   ]
  },
  {
   "cell_type": "markdown",
   "metadata": {},
   "source": [
    "## Задание - нарисовать $n$ линий\n",
    "\n",
    "Написать функцию, которая на вход принимает параметр $n$ и рисует $n$ графиков по такому приципу:\n",
    "\n",
    "$$y = x$$\n",
    "$$y = 2x$$\n",
    "$$y = 3x$$\n",
    "$$...$$\n",
    "$$y = nx$$"
   ]
  },
  {
   "cell_type": "code",
   "execution_count": 27,
   "metadata": {},
   "outputs": [],
   "source": [
    "def draw_lines(n):\n",
    "    x = np.linspace(-5, 5, 100)\n",
    "    for i in range(n):\n",
    "        plt.plot(x, i * x)"
   ]
  },
  {
   "cell_type": "code",
   "execution_count": 28,
   "metadata": {},
   "outputs": [
    {
     "data": {
      "image/png": "[encoded data removed]",
      "text/plain": [
       "<Figure size 432x288 with 1 Axes>"
      ]
     },
     "metadata": {
      "needs_background": "light"
     },
     "output_type": "display_data"
    }
   ],
   "source": [
    "draw_lines(500)"
   ]
  },
  {
   "cell_type": "markdown",
   "metadata": {},
   "source": [
    "## Задача\n",
    "\n",
    "По заданным точкам нарисовать квадрат.\n",
    "\n"
   ]
  },
  {
   "cell_type": "code",
   "execution_count": 29,
   "metadata": {},
   "outputs": [],
   "source": [
    "square_coord = [\n",
    "    (0, 0),\n",
    "    (1, 0),\n",
    "    (1, 1),\n",
    "    (0, 1)\n",
    "]"
   ]
  },
  {
   "cell_type": "code",
   "execution_count": 30,
   "metadata": {},
   "outputs": [
    {
     "data": {
      "image/png": "[encoded data removed]",
      "text/plain": [
       "<Figure size 432x288 with 1 Axes>"
      ]
     },
     "metadata": {
      "needs_background": "light"
     },
     "output_type": "display_data"
    }
   ],
   "source": [
    "for i in range(len(square_coord)):\n",
    "    x1, y1 = square_coord[i - 1]\n",
    "    x2, y2 = square_coord[i]\n",
    "    plt.plot([x1, x2], [y1, y2], color='g')"
   ]
  },
  {
   "cell_type": "markdown",
   "metadata": {},
   "source": [
    "Можно оформить код в функцию и он будет рисовать любую замкнутую фигуру"
   ]
  },
  {
   "cell_type": "code",
   "execution_count": 31,
   "metadata": {},
   "outputs": [],
   "source": [
    "def draw_figure(coords):\n",
    "    for i in range(len(coords)):\n",
    "        x1, y1 = coords[i - 1]\n",
    "        x2, y2 = coords[i]\n",
    "        plt.plot([x1, x2], [y1, y2], color='g')"
   ]
  },
  {
   "cell_type": "code",
   "execution_count": 32,
   "metadata": {},
   "outputs": [
    {
     "data": {
      "image/png": "[encoded data removed]",
      "text/plain": [
       "<Figure size 432x288 with 1 Axes>"
      ]
     },
     "metadata": {
      "needs_background": "light"
     },
     "output_type": "display_data"
    }
   ],
   "source": [
    "star_coords = [\n",
    "    (-9, 2),\n",
    "    (-3, 3),\n",
    "    (0, 8),\n",
    "    (3, 3), \n",
    "    (9, 2),\n",
    "    (5, -3),\n",
    "    (6, -9),\n",
    "    (0, -7),\n",
    "    (-6, -9),\n",
    "    (-5, -3)\n",
    "]\n",
    "draw_figure(star_coords)"
   ]
  },
  {
   "cell_type": "markdown",
   "metadata": {},
   "source": [
    "## Задача\n",
    "\n",
    "Дана СЛАУ второго порядка, нужно отобразить на графике линии и точку их пересечения\n",
    "\n",
    "$$a_{11}x + a_{12}y = b_1$$\n",
    "$$a_{21}x + a_{22}y = b_2$$\n",
    "\n"
   ]
  },
  {
   "cell_type": "markdown",
   "metadata": {},
   "source": [
    "## Решение\n",
    "\n",
    "Мы можем нарисовать линию такого вида:\n",
    "\n",
    "$y = kx + b$\n",
    "\n",
    "Для этого можем привести каждое из уравнений выше к такому виду:\n",
    "\n",
    "$y = \\frac{(b_1 - a_{11}x)}{a_{12}}$\n",
    "\n",
    "$y = \\frac{(b_2 - a_{21}x)}{a_{22}}$\n",
    "\n",
    "Чтобы использовать эти формулы, нужно чтобы коэфициенты $a_{12}, a_{22}$ были не равны 0 (на 0 делить нельзя).\n",
    "\n",
    "Как будет выглядеть уравнение, если обнулить коэфициенты?\n",
    "\n",
    "$a_{11}x = b1$\n",
    "\n",
    "$a_{21}x = b2$\n",
    "\n",
    "В таком случае графики будут вертикальными линиями с иксами $\\frac{b1}{a_{11}}$ и $\\frac{a_{21}}{b2}$\n",
    "\n",
    "Можно писать код. Сначала напишем функцию, которая принимает на вход строку из матрицы (массив $[a_{11}, a_{12}]$, например), а также значение $b$. "
   ]
  },
  {
   "cell_type": "code",
   "execution_count": 33,
   "metadata": {},
   "outputs": [
    {
     "data": {
      "text/plain": [
       "array([3., 2.])"
      ]
     },
     "execution_count": 33,
     "metadata": {},
     "output_type": "execute_result"
    }
   ],
   "source": [
    "A = np.array([[1, 0], [0, 1]])\n",
    "b = np.array([3, 2])\n",
    "\n",
    "solution = np.linalg.solve(A, b)\n",
    "solution"
   ]
  },
  {
   "cell_type": "code",
   "execution_count": 34,
   "metadata": {},
   "outputs": [],
   "source": [
    "def draw_line(a_row, b):\n",
    "    # Будем рисовать от -50 до 50\n",
    "    x = np.linspace(-50, 50, 100)\n",
    "    if a_row[1] == 0:\n",
    "        # Если коэфициент 0, рисуем вертикальную линию от -50 до 50\n",
    "        y = [-50, 50]\n",
    "        x_value = b / a_row[0]\n",
    "        x = [x_value, x_value]\n",
    "    else:\n",
    "        # Если не 0, то используем обычную формулу\n",
    "        y = (b - a_row[0] * x) / a_row[1]\n",
    "    plt.plot(x, y)"
   ]
  },
  {
   "cell_type": "markdown",
   "metadata": {},
   "source": [
    "Будем передавать сначала первую строку:"
   ]
  },
  {
   "cell_type": "code",
   "execution_count": 35,
   "metadata": {},
   "outputs": [
    {
     "data": {
      "text/plain": [
       "array([1, 0])"
      ]
     },
     "execution_count": 35,
     "metadata": {},
     "output_type": "execute_result"
    }
   ],
   "source": [
    "A[0, :]"
   ]
  },
  {
   "cell_type": "markdown",
   "metadata": {},
   "source": [
    "Затем вторую:"
   ]
  },
  {
   "cell_type": "code",
   "execution_count": 36,
   "metadata": {},
   "outputs": [
    {
     "data": {
      "text/plain": [
       "array([0, 1])"
      ]
     },
     "execution_count": 36,
     "metadata": {},
     "output_type": "execute_result"
    }
   ],
   "source": [
    "A[1, :]"
   ]
  },
  {
   "cell_type": "markdown",
   "metadata": {},
   "source": [
    "Получим вот такие линии:"
   ]
  },
  {
   "cell_type": "code",
   "execution_count": 37,
   "metadata": {},
   "outputs": [
    {
     "data": {
      "text/plain": [
       "<matplotlib.collections.PathCollection at 0x26f36e5e6d8>"
      ]
     },
     "execution_count": 37,
     "metadata": {},
     "output_type": "execute_result"
    },
    {
     "data": {
      "image/png": "[encoded data removed]",
      "text/plain": [
       "<Figure size 432x288 with 1 Axes>"
      ]
     },
     "metadata": {
      "needs_background": "light"
     },
     "output_type": "display_data"
    }
   ],
   "source": [
    "draw_line(A[0, :], b[0])\n",
    "draw_line(A[1, :], b[1])\n",
    "\n",
    "# Нарисуем также точку пересечения\n",
    "plt.scatter([solution[0]], [solution[1]], marker='x', s=100, c='r')"
   ]
  },
  {
   "cell_type": "markdown",
   "metadata": {},
   "source": [
    "Можем оформить итоговое решение в функцию, которая будет принимать массивы A и b и рисовать по ним график"
   ]
  },
  {
   "cell_type": "code",
   "execution_count": 38,
   "metadata": {},
   "outputs": [],
   "source": [
    "def draw_linear_solution(A, b):\n",
    "    solution = np.linalg.solve(A, b)\n",
    "    draw_line(A[0, :], b[0])\n",
    "    draw_line(A[1, :], b[1])\n",
    "\n",
    "    # Нарисуем также точку пересечения\n",
    "    plt.scatter([solution[0]], [solution[1]], marker='x', s=100, c='r')"
   ]
  },
  {
   "cell_type": "code",
   "execution_count": 39,
   "metadata": {},
   "outputs": [
    {
     "data": {
      "image/png": "[encoded data removed]",
      "text/plain": [
       "<Figure size 432x288 with 1 Axes>"
      ]
     },
     "metadata": {
      "needs_background": "light"
     },
     "output_type": "display_data"
    }
   ],
   "source": [
    "A = np.array([[3, 10], [1, 5]])\n",
    "b = np.array([1, 20])\n",
    "draw_linear_solution(A, b)"
   ]
  },
  {
   "cell_type": "markdown",
   "metadata": {},
   "source": [
    "Добавим слайдер\n",
    "\n",
    "Для этого необходимо установить `ipywidgets`:\n",
    "\n",
    "```\n",
    "conda install ipywidgets\n",
    "```"
   ]
  },
  {
   "cell_type": "code",
   "execution_count": 40,
   "metadata": {},
   "outputs": [],
   "source": [
    "%matplotlib inline\n",
    "from ipywidgets import interact\n",
    "import ipywidgets as widgets"
   ]
  },
  {
   "cell_type": "markdown",
   "metadata": {},
   "source": [
    "Если посмотреть примеры, то на вход функции должны поступать числа. Напишем функцию, которая будет принимать на вход числа, преобразовывать их в матрицу и передавать в функцию, которую мы написали раньше."
   ]
  },
  {
   "cell_type": "code",
   "execution_count": 41,
   "metadata": {},
   "outputs": [],
   "source": [
    "def draw_linear_from_numbers(a11, a12, a21, a22, b1, b2):\n",
    "    A = np.array([[a11, a12], [a21, a22]])\n",
    "    b = np.array([b1, b2])\n",
    "    draw_linear_solution(A, b)\n",
    "    # Для красоты зафиксируем положение графика\n",
    "    plt.xlim(-50, 50)\n",
    "    plt.ylim(-50, 50)"
   ]
  },
  {
   "cell_type": "markdown",
   "metadata": {},
   "source": [
    "Создаем слайдеры"
   ]
  },
  {
   "cell_type": "code",
   "execution_count": 42,
   "metadata": {},
   "outputs": [],
   "source": [
    "slider1 = widgets.FloatSlider(value=1, min=-5, max=5, step=0.01)\n",
    "slider2 = widgets.FloatSlider(value=0, min=-5, max=5, step=0.01)\n",
    "slider3 = widgets.FloatSlider(value=0, min=-5, max=5, step=0.01)\n",
    "slider4 = widgets.FloatSlider(value=1, min=-5, max=5, step=0.01)\n",
    "slider5 = widgets.FloatSlider(value=3, min=-5, max=5, step=0.01)\n",
    "slider6 = widgets.FloatSlider(value=2, min=-5, max=5, step=0.01)"
   ]
  },
  {
   "cell_type": "markdown",
   "metadata": {},
   "source": [
    "Передаем в функцию `interact` нашу функцию и какие слайдеры будут отвечать за какие аргументы"
   ]
  },
  {
   "cell_type": "code",
   "execution_count": null,
   "metadata": {},
   "outputs": [
    {
     "data": {
      "image/png": "[encoded data removed]",
      "text/plain": [
       "<Figure size 432x288 with 1 Axes>"
      ]
     },
     "metadata": {
      "needs_background": "light"
     },
     "output_type": "display_data"
    },
    {
     "data": {
      "text/plain": [
       "<function __main__.draw_linear_from_numbers(a11, a12, a21, a22, b1, b2)>"
      ]
     },
     "execution_count": 45,
     "metadata": {},
     "output_type": "execute_result"
    }
   ],
   "source": [
    "interact(draw_linear_from_numbers, a11=slider1, a12=slider2, a21=slider3, a22=slider4, b1=slider5, b2=slider6)"
   ]
  },
  {
   "cell_type": "code",
   "execution_count": null,
   "metadata": {},
   "outputs": [],
   "source": []
  }
 ],
 "metadata": {
  "kernelspec": {
   "display_name": "Python 3",
   "language": "python",
   "name": "python3"
  },
  "language_info": {
   "codemirror_mode": {
    "name": "ipython",
    "version": 3
   },
   "file_extension": ".py",
   "mimetype": "text/x-python",
   "name": "python",
   "nbconvert_exporter": "python",
   "pygments_lexer": "ipython3",
   "version": "3.7.0"
  }
 },
 "nbformat": 4,
 "nbformat_minor": 5
}
