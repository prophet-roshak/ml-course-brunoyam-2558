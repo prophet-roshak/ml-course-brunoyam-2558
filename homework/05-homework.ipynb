{
 "cells": [
  {
   "cell_type": "code",
   "execution_count": 4,
   "id": "fa1f436b-c094-48e2-afec-4b53c7ed0a76",
   "metadata": {},
   "outputs": [],
   "source": [
    "import pandas as pd\n",
    "import numpy as np\n",
    "import matplotlib.pyplot as plt\n",
    "import scipy.special"
   ]
  },
  {
   "cell_type": "markdown",
   "id": "d1d8dc44-d54a-428d-bd5a-717c189583a6",
   "metadata": {
    "tags": []
   },
   "source": [
    "# Домашняя работа\n",
    "\n",
    "Для задач Easy и Normal использовать данные Титаника\n"
   ]
  },
  {
   "cell_type": "code",
   "execution_count": 5,
   "id": "8df33d87-4b40-486f-9464-45ce733e4628",
   "metadata": {},
   "outputs": [
    {
     "name": "stdout",
     "output_type": "stream",
     "text": [
      "(891, 12)\n"
     ]
    },
    {
     "data": {
      "text/html": [
       "<div>\n",
       "<style scoped>\n",
       "    .dataframe tbody tr th:only-of-type {\n",
       "        vertical-align: middle;\n",
       "    }\n",
       "\n",
       "    .dataframe tbody tr th {\n",
       "        vertical-align: top;\n",
       "    }\n",
       "\n",
       "    .dataframe thead th {\n",
       "        text-align: right;\n",
       "    }\n",
       "</style>\n",
       "<table border=\"1\" class=\"dataframe\">\n",
       "  <thead>\n",
       "    <tr style=\"text-align: right;\">\n",
       "      <th></th>\n",
       "      <th>PassengerId</th>\n",
       "      <th>Survived</th>\n",
       "      <th>Pclass</th>\n",
       "      <th>Name</th>\n",
       "      <th>Sex</th>\n",
       "      <th>Age</th>\n",
       "      <th>SibSp</th>\n",
       "      <th>Parch</th>\n",
       "      <th>Ticket</th>\n",
       "      <th>Fare</th>\n",
       "      <th>Cabin</th>\n",
       "      <th>Embarked</th>\n",
       "    </tr>\n",
       "  </thead>\n",
       "  <tbody>\n",
       "    <tr>\n",
       "      <th>0</th>\n",
       "      <td>1</td>\n",
       "      <td>0</td>\n",
       "      <td>3</td>\n",
       "      <td>Braund, Mr. Owen Harris</td>\n",
       "      <td>male</td>\n",
       "      <td>22.0</td>\n",
       "      <td>1</td>\n",
       "      <td>0</td>\n",
       "      <td>A/5 21171</td>\n",
       "      <td>7.25</td>\n",
       "      <td>NaN</td>\n",
       "      <td>S</td>\n",
       "    </tr>\n",
       "  </tbody>\n",
       "</table>\n",
       "</div>"
      ],
      "text/plain": [
       "   PassengerId  Survived  Pclass                     Name   Sex   Age  SibSp  \\\n",
       "0            1         0       3  Braund, Mr. Owen Harris  male  22.0      1   \n",
       "\n",
       "   Parch     Ticket  Fare Cabin Embarked  \n",
       "0      0  A/5 21171  7.25   NaN        S  "
      ]
     },
     "execution_count": 5,
     "metadata": {},
     "output_type": "execute_result"
    }
   ],
   "source": [
    "df = pd.read_csv(\"../hw_data/titanic/train.csv\")\n",
    "print(df.shape)\n",
    "df.head(1)"
   ]
  },
  {
   "cell_type": "markdown",
   "id": "c157f4be-8fd4-40e7-a026-4c8cfc03ef2f",
   "metadata": {},
   "source": [
    "## Easy\n",
    "\n",
    "Оценить с помощью доверительных интервалов:\n",
    "- выживаемость всех пассажиров (оценить среднее по isSurvived)\n",
    "- выживаемость женщин\n",
    "- выживаемость людей с каютами первого класса\n",
    "\n",
    "Ответить на вопросы:\n",
    "- какой вариант оценки доверительных интервалов нужно использовать в данной задаче и почему?\n",
    "- какая из ошибок более критична для данной задачи - I или II рода?"
   ]
  },
  {
   "cell_type": "markdown",
   "id": "c850dd67-19bb-45d5-bb53-0abe8ecf584f",
   "metadata": {},
   "source": [
    "### Ответы\n",
    "\n",
    "Для оценки интервалов нужно использовать Т-распределение Стьюдента, т.к. истинная дисперсия неизвестна.\n",
    "\n",
    "Если принять за гипотезу H0 человек выжил, то ошибкой первого рода будет признание живым погибшего. А второго рода - погибшим живого.\n",
    "С точки зрения логики. первая ситуация более критична, т.к. живой в последствии сможет доказать факт, что он выжил."
   ]
  },
  {
   "cell_type": "code",
   "execution_count": 6,
   "id": "52e9d068-83e5-485b-b1a9-7807585d2f1c",
   "metadata": {},
   "outputs": [
    {
     "name": "stdout",
     "output_type": "stream",
     "text": [
      "mean: 0.3838383838383838\n",
      "(0.35184459896802966, 0.41583216870873796)\n"
     ]
    }
   ],
   "source": [
    "def calc_interval(dfval):\n",
    "    pas_s_mean = dfval[\"Survived\"].mean()\n",
    "    pas_s_std = dfval[\"Survived\"].std()\n",
    "    pas_count = dfval[\"PassengerId\"].count()\n",
    "    alpha = 0.05\n",
    "\n",
    "    from scipy.stats import t\n",
    "\n",
    "    t_interval = t.interval(1 - alpha, pas_count - 1, loc=pas_s_mean, scale=pas_s_std / np.sqrt(pas_count))\n",
    "    print (\"mean: \"+str(pas_s_mean), t_interval, sep=\"\\n\")\n",
    "    \n",
    "calc_interval(df)"
   ]
  },
  {
   "cell_type": "code",
   "execution_count": 7,
   "id": "b8ee0690-9636-4bbc-9f1e-25bdb50cee52",
   "metadata": {},
   "outputs": [
    {
     "name": "stdout",
     "output_type": "stream",
     "text": [
      "mean: 0.7420382165605095\n",
      "(0.6933807726141715, 0.7906956605068475)\n"
     ]
    }
   ],
   "source": [
    "df_w = df[df[\"Sex\"]=='female']\n",
    "calc_interval(df_w)"
   ]
  },
  {
   "cell_type": "code",
   "execution_count": 8,
   "id": "a096d31a-9d42-4e46-a6af-c67598a6156b",
   "metadata": {},
   "outputs": [
    {
     "name": "stdout",
     "output_type": "stream",
     "text": [
      "mean: 0.6296296296296297\n",
      "(0.5647152190969751, 0.6945440401622842)\n"
     ]
    }
   ],
   "source": [
    "df_1cl = df[df[\"Pclass\"]==1]\n",
    "calc_interval(df_1cl)"
   ]
  },
  {
   "cell_type": "markdown",
   "id": "f64feaba-6ad6-4949-be4e-2822e002e139",
   "metadata": {},
   "source": []
  },
  {
   "cell_type": "markdown",
   "id": "2af08934-863f-4774-b586-468bfb323c23",
   "metadata": {},
   "source": [
    "## Normal\n",
    "\n",
    "- Проверить гипотезу о том, что женщины выживают чаще мужчин с уровнем значимости 0.05\n",
    "- Проверить гипотезу о том, что дети выживают чаще, чем взрослые"
   ]
  },
  {
   "cell_type": "markdown",
   "id": "4a253a8d-bae1-42f0-b1a0-abae58f011c8",
   "metadata": {},
   "source": [
    "H0 - женщины выживают чаще, H1 - мужчины выживают чаще"
   ]
  },
  {
   "cell_type": "code",
   "execution_count": 18,
   "id": "e38e891b-7e97-4425-bac1-f809f2e556a5",
   "metadata": {},
   "outputs": [
    {
     "data": {
      "text/plain": [
       "Ttest_1sampResult(statistic=-33.91393230463904, pvalue=1.0)"
      ]
     },
     "execution_count": 18,
     "metadata": {},
     "output_type": "execute_result"
    }
   ],
   "source": [
    "H0_mean = df[df[\"Sex\"]=='female'][\"Survived\"].mean()\n",
    "\n",
    "result = scipy.stats.ttest_1samp( df[df[\"Sex\"]=='male'][\"Survived\"], H0_mean, alternative=\"greater\")\n",
    "result"
   ]
  },
  {
   "cell_type": "markdown",
   "id": "3e8411b3-b9b5-4878-a569-2959408752c2",
   "metadata": {},
   "source": [
    "pvalue = 1, следовательно верна гипотеза H0: женщины выживают чаще."
   ]
  },
  {
   "cell_type": "markdown",
   "id": "c255fc3b-0364-4e27-99d5-25405e60a2c3",
   "metadata": {},
   "source": [
    "H0 - дети выживают чаще, H1 - взрослые выживают чаще"
   ]
  },
  {
   "cell_type": "code",
   "execution_count": 24,
   "id": "a2c81e47-4abc-4c14-9566-31e283bbb8be",
   "metadata": {},
   "outputs": [
    {
     "data": {
      "text/plain": [
       "Ttest_1sampResult(statistic=-8.009176230313653, pvalue=0.999999999999997)"
      ]
     },
     "execution_count": 24,
     "metadata": {},
     "output_type": "execute_result"
    }
   ],
   "source": [
    "H0_mean = df[df[\"Age\"]<18][\"Survived\"].mean()\n",
    "\n",
    "result  = scipy.stats.ttest_1samp( df[df[\"Age\"]>=18][\"Survived\"], H0_mean, alternative=\"greater\") \n",
    "result"
   ]
  },
  {
   "cell_type": "markdown",
   "id": "ee3ecdf5-612c-4f4c-8425-ab313f3bbf7c",
   "metadata": {},
   "source": [
    "pvalue близко к 1, следовательно верна гипотеза H0: дети выживают чаще "
   ]
  },
  {
   "cell_type": "markdown",
   "id": "90044ec3-d5b0-4067-96b1-f255e0a452d4",
   "metadata": {},
   "source": [
    "## Hard\n",
    "\n",
    "Одной из важнейших тем в статистике является множественная проверка гипотез. \n",
    "\n",
    "Если нужно много раз проверять гипотезы, то вероятность совершить ошибку первого рода будет расти с каждой новой гипотезой.\n",
    "\n",
    "[Прочитать подробнее можно здесь](https://ru.wikipedia.org/wiki/%D0%9F%D0%BE%D0%BF%D1%80%D0%B0%D0%B2%D0%BA%D0%B0_%D0%BD%D0%B0_%D0%BC%D0%BD%D0%BE%D0%B6%D0%B5%D1%81%D1%82%D0%B2%D0%B5%D0%BD%D0%BD%D1%83%D1%8E_%D0%BF%D1%80%D0%BE%D0%B2%D0%B5%D1%80%D0%BA%D1%83_%D0%B3%D0%B8%D0%BF%D0%BE%D1%82%D0%B5%D0%B7)\n",
    "\n",
    "Задача:\n",
    "\n",
    "Мы отобрали 1000 человек, которые заявляют, что они экстрасенсы. Мы хотим проверить это. Для этого проводится следующий эксперимент. Перед каждым участником выкладывают 10 карт рубашкой вверх и просят угадать цвет карты (красный или черный). На уровне значимости 0.01 мы хотим быть уверены, является ли человек экстрасенсом.\n",
    "\n",
    "Нужно смоделировать ситуацию двумя способами (предполагаем, что экстрасенсов не существует и решения участников представляют из себя биномиальное распределение):\n",
    "\n",
    "- без множественной проверки гипотез, выявить количество экстрасенсов\n",
    "- с множественной проверкой гипотез, используя поправку Бонферрони (правило FWER)\n",
    "\n",
    "Сколько экстрасенсов получилось поймать в каждом из случаев?"
   ]
  }
 ],
 "metadata": {
  "kernelspec": {
   "display_name": "Python 3 (ipykernel)",
   "language": "python",
   "name": "python3"
  },
  "language_info": {
   "codemirror_mode": {
    "name": "ipython",
    "version": 3
   },
   "file_extension": ".py",
   "mimetype": "text/x-python",
   "name": "python",
   "nbconvert_exporter": "python",
   "pygments_lexer": "ipython3",
   "version": "3.9.7"
  }
 },
 "nbformat": 4,
 "nbformat_minor": 5
}
