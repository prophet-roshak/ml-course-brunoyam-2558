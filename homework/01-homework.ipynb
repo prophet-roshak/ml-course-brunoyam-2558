{
 "cells": [
  {
   "cell_type": "markdown",
   "id": "ffbb5daf-87f2-4df3-9dc0-a72552a7cf11",
   "metadata": {},
   "source": [
    "# Домашнее задание\n",
    "\n",
    "Установить Anaconda и Git. Создать репозиторий на GitHub.\n",
    "\n",
    "Выложить в репозиторий на гитхабе (в ветку master) в отдельную папку (можно назвать ее 01-homework, например) ноутбук с решением хотя бы двух задач (систему со сложностью обговаривали на занятии)\n",
    "\n",
    "## Easy\n",
    "\n",
    "Нужно написать функцию, которая на вход получает список из чисел, а на выходе дает список, где каждое число возведено в квадрат. Решать при помощи цикла.\n",
    "\n",
    "Попробовать на вход:\n",
    "\n",
    "```python\n",
    "\n",
    "# 1.\n",
    "list(range(10))\n",
    "\n",
    "# 2.\n",
    "list(range(100))\n",
    "\n",
    "# 3.\n",
    "list()\n",
    "```"
   ]
  },
  {
   "cell_type": "code",
   "execution_count": 1,
   "id": "26ffcd9b-b105-40a8-aedd-ff4066aae9df",
   "metadata": {},
   "outputs": [],
   "source": [
    "def squareList(inList):\n",
    "    retList = []\n",
    "    for i in range(len(inList)):\n",
    "        retList.append(inList[i]*inList[i]);\n",
    "    return retList"
   ]
  },
  {
   "cell_type": "code",
   "execution_count": 2,
   "id": "59e3cf5d-d759-4b06-a4aa-e43911351f94",
   "metadata": {},
   "outputs": [
    {
     "name": "stdout",
     "output_type": "stream",
     "text": [
      "[0, 1, 4, 9, 16, 25, 36, 49, 64, 81] [0, 1, 4, 9, 16, 25, 36, 49, 64, 81, 100, 121, 144, 169, 196, 225, 256, 289, 324, 361, 400, 441, 484, 529, 576, 625, 676, 729, 784, 841, 900, 961, 1024, 1089, 1156, 1225, 1296, 1369, 1444, 1521, 1600, 1681, 1764, 1849, 1936, 2025, 2116, 2209, 2304, 2401, 2500, 2601, 2704, 2809, 2916, 3025, 3136, 3249, 3364, 3481, 3600, 3721, 3844, 3969, 4096, 4225, 4356, 4489, 4624, 4761, 4900, 5041, 5184, 5329, 5476, 5625, 5776, 5929, 6084, 6241, 6400, 6561, 6724, 6889, 7056, 7225, 7396, 7569, 7744, 7921, 8100, 8281, 8464, 8649, 8836, 9025, 9216, 9409, 9604, 9801] []\n"
     ]
    }
   ],
   "source": [
    "print(squareList(list(range(10))), squareList(list(range(100))), squareList(list()))"
   ]
  },
  {
   "cell_type": "markdown",
   "id": "2d3d3ec8-2745-4705-8448-d09730ca71bb",
   "metadata": {},
   "source": [
    "## Normal\n",
    "\n",
    "Тоже самое, но на этот раз без цикла (смотрим раздел с функциями из ноутбука, который разбирали в классе). Сравнить скорость выполнения первого и второго варианта."
   ]
  },
  {
   "cell_type": "code",
   "execution_count": 3,
   "id": "210cd651-44fe-43bb-bd6f-20cfbab82d3b",
   "metadata": {},
   "outputs": [],
   "source": [
    "def ensquare(val):\n",
    "    return val*val\n",
    "\n",
    "def squareListMap(inList):\n",
    "    return list(map(ensquare, inList))\n",
    "    "
   ]
  },
  {
   "cell_type": "code",
   "execution_count": 4,
   "id": "9a4ad531-4b12-4c7d-a0d3-e207aafe08f7",
   "metadata": {},
   "outputs": [
    {
     "name": "stdout",
     "output_type": "stream",
     "text": [
      "[0, 1, 4, 9, 16, 25, 36, 49, 64, 81] [0, 1, 4, 9, 16, 25, 36, 49, 64, 81, 100, 121, 144, 169, 196, 225, 256, 289, 324, 361, 400, 441, 484, 529, 576, 625, 676, 729, 784, 841, 900, 961, 1024, 1089, 1156, 1225, 1296, 1369, 1444, 1521, 1600, 1681, 1764, 1849, 1936, 2025, 2116, 2209, 2304, 2401, 2500, 2601, 2704, 2809, 2916, 3025, 3136, 3249, 3364, 3481, 3600, 3721, 3844, 3969, 4096, 4225, 4356, 4489, 4624, 4761, 4900, 5041, 5184, 5329, 5476, 5625, 5776, 5929, 6084, 6241, 6400, 6561, 6724, 6889, 7056, 7225, 7396, 7569, 7744, 7921, 8100, 8281, 8464, 8649, 8836, 9025, 9216, 9409, 9604, 9801] []\n"
     ]
    }
   ],
   "source": [
    "print(squareListMap(list(range(10))), squareListMap(list(range(100))), squareListMap(list()))"
   ]
  },
  {
   "cell_type": "code",
   "execution_count": 5,
   "id": "b95743d1-deaf-43e4-9272-2e651dc89869",
   "metadata": {},
   "outputs": [
    {
     "name": "stdout",
     "output_type": "stream",
     "text": [
      "208 µs ± 3.47 µs per loop (mean ± std. dev. of 7 runs, 1000 loops each)\n"
     ]
    }
   ],
   "source": [
    "%%timeit\n",
    "sqList = squareList(list(range(1000)))"
   ]
  },
  {
   "cell_type": "code",
   "execution_count": 6,
   "id": "d97d63fb-c9d3-40be-871e-eb198a0b1ff1",
   "metadata": {},
   "outputs": [
    {
     "name": "stdout",
     "output_type": "stream",
     "text": [
      "146 µs ± 2.54 µs per loop (mean ± std. dev. of 7 runs, 10000 loops each)\n"
     ]
    }
   ],
   "source": [
    "%%timeit\n",
    "sqList = squareListMap(list(range(1000)))"
   ]
  },
  {
   "cell_type": "markdown",
   "id": "d22f17c6-c807-4971-a348-59465995522b",
   "metadata": {},
   "source": [
    "## Hard\n",
    "\n",
    "Написать функцию, которая на вход принимает список, а возвращает словарь со среднием, медианой и модой, например вот такой: `{\"mean\": ..., \"median\": ..., \"mode\": ...}`. На следующем занятии разберем как это сделать при помощи библиотек, а пока нужно реализовать просто по формулам.\n",
    "\n",
    "Пример:\n",
    "\n",
    "```python\n",
    "\n",
    "func([0, 1, 1, 10, 5, 4, 3])\n",
    "\n",
    "# Должно вернуть: {\"mean\": 3.4285, \"median\": 3, \"mode\": 1}\n",
    "\n",
    "```"
   ]
  },
  {
   "cell_type": "code",
   "execution_count": 7,
   "id": "3fd6f867-6e9d-4987-a64d-621622f6841d",
   "metadata": {},
   "outputs": [],
   "source": [
    "def myMean(inList):\n",
    "    if len(inList) == 0:\n",
    "        return 0\n",
    "    \n",
    "    return sum(inList) / len(inList)"
   ]
  },
  {
   "cell_type": "code",
   "execution_count": 8,
   "id": "366c3619-b743-4bdb-b72e-88aa0bb9a8f1",
   "metadata": {},
   "outputs": [],
   "source": [
    "def myMedian(inList):\n",
    "    sortList = sorted(inList)\n",
    "\n",
    "    if len(sortList) % 2 != 0:\n",
    "        index = int((len(sortList))/2)\n",
    "        return sortList[index]\n",
    "\n",
    "    else:\n",
    "        index0 = int((len(sortList)-1)/2)\n",
    "        index1 = int((len(sortList))/2)\n",
    "        return (sortList[index0]+sortList[index1])/2\n",
    "    "
   ]
  },
  {
   "cell_type": "code",
   "execution_count": 9,
   "id": "d37e5976-5bf1-4909-8085-55db0b069e29",
   "metadata": {},
   "outputs": [],
   "source": [
    "def myMode(inList):\n",
    "    valDict = {inList[i]: 0 for i in range(len(inList))}\n",
    "    for i in range(len(inList)):\n",
    "        valDict[inList[i]] += 1\n",
    "        \n",
    "    maxKey = -1\n",
    "    maxVal = -1\n",
    "    for key, val in valDict.items():\n",
    "        if (val > maxVal): \n",
    "            maxKey = key\n",
    "            maxVal = val\n",
    "            \n",
    "    return maxKey"
   ]
  },
  {
   "cell_type": "code",
   "execution_count": 10,
   "id": "835e3b5d-431b-4b30-80c2-27521028c4d6",
   "metadata": {},
   "outputs": [],
   "source": [
    "def makeStats(inList):\n",
    "    return {\"mean\": myMean(inList), \"median\": myMedian(inList), \"mode\": myMode(inList)}"
   ]
  },
  {
   "cell_type": "code",
   "execution_count": 11,
   "id": "cb4352fd-853b-4f0f-90c5-396c8d1d4b9f",
   "metadata": {},
   "outputs": [
    {
     "name": "stdout",
     "output_type": "stream",
     "text": [
      "{'mean': 3.4285714285714284, 'median': 3, 'mode': 1}\n",
      "{'mean': 5.0, 'median': 2, 'mode': 2}\n"
     ]
    }
   ],
   "source": [
    "print (makeStats([0, 1, 1, 10, 5, 4, 3]))\n",
    "print (makeStats([0, 1, 1, 10, 5, 4, 3, 2, 2, 2, 25]))"
   ]
  }
 ],
 "metadata": {
  "kernelspec": {
   "display_name": "Python 3 (ipykernel)",
   "language": "python",
   "name": "python3"
  },
  "language_info": {
   "codemirror_mode": {
    "name": "ipython",
    "version": 3
   },
   "file_extension": ".py",
   "mimetype": "text/x-python",
   "name": "python",
   "nbconvert_exporter": "python",
   "pygments_lexer": "ipython3",
   "version": "3.9.7"
  }
 },
 "nbformat": 4,
 "nbformat_minor": 5
}
