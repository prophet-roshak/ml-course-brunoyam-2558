{
 "cells": [
  {
   "cell_type": "code",
   "execution_count": 1,
   "id": "57700f84-d3f8-4f9b-bd92-f706f0cdfc0c",
   "metadata": {},
   "outputs": [],
   "source": [
    "import pandas as pd"
   ]
  },
  {
   "cell_type": "markdown",
   "id": "bd954e92-f2a8-4185-8a05-6ec4496cf57e",
   "metadata": {},
   "source": [
    "# Easy\n",
    "\n",
    "Скачать данные отсюда (кнопка download all снизу):\n",
    "\n",
    "[https://www.kaggle.com/c/titanic/data](https://www.kaggle.com/c/titanic/data)\n",
    "\n",
    "Это данные о пассажирах Титаника и информация о том, кто выжил, а кто нет. Будем анализировать файл train.csv.\n",
    "\n",
    "Необходимо прочитать файл, посчитать процент детей (младше 18 лет), соотношение мужчин/женщин на борту"
   ]
  },
  {
   "cell_type": "markdown",
   "id": "9e825c3a-84af-4a19-8a7c-87b92ce8887f",
   "metadata": {
    "tags": []
   },
   "source": [
    "## Решение"
   ]
  },
  {
   "cell_type": "code",
   "execution_count": 63,
   "id": "80db133b-91c4-45ea-a251-c6364d2dce29",
   "metadata": {},
   "outputs": [
    {
     "name": "stdout",
     "output_type": "stream",
     "text": [
      "(891, 12)\n"
     ]
    },
    {
     "data": {
      "text/html": [
       "<div>\n",
       "<style scoped>\n",
       "    .dataframe tbody tr th:only-of-type {\n",
       "        vertical-align: middle;\n",
       "    }\n",
       "\n",
       "    .dataframe tbody tr th {\n",
       "        vertical-align: top;\n",
       "    }\n",
       "\n",
       "    .dataframe thead th {\n",
       "        text-align: right;\n",
       "    }\n",
       "</style>\n",
       "<table border=\"1\" class=\"dataframe\">\n",
       "  <thead>\n",
       "    <tr style=\"text-align: right;\">\n",
       "      <th></th>\n",
       "      <th>PassengerId</th>\n",
       "      <th>Survived</th>\n",
       "      <th>Pclass</th>\n",
       "      <th>Name</th>\n",
       "      <th>Sex</th>\n",
       "      <th>Age</th>\n",
       "      <th>SibSp</th>\n",
       "      <th>Parch</th>\n",
       "      <th>Ticket</th>\n",
       "      <th>Fare</th>\n",
       "      <th>Cabin</th>\n",
       "      <th>Embarked</th>\n",
       "    </tr>\n",
       "  </thead>\n",
       "  <tbody>\n",
       "    <tr>\n",
       "      <th>0</th>\n",
       "      <td>1</td>\n",
       "      <td>0</td>\n",
       "      <td>3</td>\n",
       "      <td>Braund, Mr. Owen Harris</td>\n",
       "      <td>male</td>\n",
       "      <td>22.0</td>\n",
       "      <td>1</td>\n",
       "      <td>0</td>\n",
       "      <td>A/5 21171</td>\n",
       "      <td>7.25</td>\n",
       "      <td>NaN</td>\n",
       "      <td>S</td>\n",
       "    </tr>\n",
       "  </tbody>\n",
       "</table>\n",
       "</div>"
      ],
      "text/plain": [
       "   PassengerId  Survived  Pclass                     Name   Sex   Age  SibSp  \\\n",
       "0            1         0       3  Braund, Mr. Owen Harris  male  22.0      1   \n",
       "\n",
       "   Parch     Ticket  Fare Cabin Embarked  \n",
       "0      0  A/5 21171  7.25   NaN        S  "
      ]
     },
     "execution_count": 63,
     "metadata": {},
     "output_type": "execute_result"
    }
   ],
   "source": [
    "df = pd.read_csv(\"../hw_data/titanic/train.csv\")\n",
    "print(df.shape)\n",
    "df.head(1)"
   ]
  },
  {
   "cell_type": "code",
   "execution_count": 136,
   "id": "ffa6fbbe-8ab6-4f7c-ad43-aae308fbeafd",
   "metadata": {},
   "outputs": [
    {
     "data": {
      "text/html": [
       "<div>\n",
       "<style scoped>\n",
       "    .dataframe tbody tr th:only-of-type {\n",
       "        vertical-align: middle;\n",
       "    }\n",
       "\n",
       "    .dataframe tbody tr th {\n",
       "        vertical-align: top;\n",
       "    }\n",
       "\n",
       "    .dataframe thead th {\n",
       "        text-align: right;\n",
       "    }\n",
       "</style>\n",
       "<table border=\"1\" class=\"dataframe\">\n",
       "  <thead>\n",
       "    <tr style=\"text-align: right;\">\n",
       "      <th></th>\n",
       "      <th>PassengerId</th>\n",
       "      <th>Survived</th>\n",
       "      <th>Pclass</th>\n",
       "      <th>Age</th>\n",
       "      <th>SibSp</th>\n",
       "      <th>Parch</th>\n",
       "      <th>Fare</th>\n",
       "    </tr>\n",
       "  </thead>\n",
       "  <tbody>\n",
       "    <tr>\n",
       "      <th>count</th>\n",
       "      <td>891.000000</td>\n",
       "      <td>891.000000</td>\n",
       "      <td>891.000000</td>\n",
       "      <td>714.000000</td>\n",
       "      <td>891.000000</td>\n",
       "      <td>891.000000</td>\n",
       "      <td>891.000000</td>\n",
       "    </tr>\n",
       "    <tr>\n",
       "      <th>mean</th>\n",
       "      <td>446.000000</td>\n",
       "      <td>0.383838</td>\n",
       "      <td>2.308642</td>\n",
       "      <td>29.699118</td>\n",
       "      <td>0.523008</td>\n",
       "      <td>0.381594</td>\n",
       "      <td>32.204208</td>\n",
       "    </tr>\n",
       "    <tr>\n",
       "      <th>std</th>\n",
       "      <td>257.353842</td>\n",
       "      <td>0.486592</td>\n",
       "      <td>0.836071</td>\n",
       "      <td>14.526497</td>\n",
       "      <td>1.102743</td>\n",
       "      <td>0.806057</td>\n",
       "      <td>49.693429</td>\n",
       "    </tr>\n",
       "    <tr>\n",
       "      <th>min</th>\n",
       "      <td>1.000000</td>\n",
       "      <td>0.000000</td>\n",
       "      <td>1.000000</td>\n",
       "      <td>0.420000</td>\n",
       "      <td>0.000000</td>\n",
       "      <td>0.000000</td>\n",
       "      <td>0.000000</td>\n",
       "    </tr>\n",
       "    <tr>\n",
       "      <th>25%</th>\n",
       "      <td>223.500000</td>\n",
       "      <td>0.000000</td>\n",
       "      <td>2.000000</td>\n",
       "      <td>20.125000</td>\n",
       "      <td>0.000000</td>\n",
       "      <td>0.000000</td>\n",
       "      <td>7.910400</td>\n",
       "    </tr>\n",
       "    <tr>\n",
       "      <th>50%</th>\n",
       "      <td>446.000000</td>\n",
       "      <td>0.000000</td>\n",
       "      <td>3.000000</td>\n",
       "      <td>28.000000</td>\n",
       "      <td>0.000000</td>\n",
       "      <td>0.000000</td>\n",
       "      <td>14.454200</td>\n",
       "    </tr>\n",
       "    <tr>\n",
       "      <th>75%</th>\n",
       "      <td>668.500000</td>\n",
       "      <td>1.000000</td>\n",
       "      <td>3.000000</td>\n",
       "      <td>38.000000</td>\n",
       "      <td>1.000000</td>\n",
       "      <td>0.000000</td>\n",
       "      <td>31.000000</td>\n",
       "    </tr>\n",
       "    <tr>\n",
       "      <th>max</th>\n",
       "      <td>891.000000</td>\n",
       "      <td>1.000000</td>\n",
       "      <td>3.000000</td>\n",
       "      <td>80.000000</td>\n",
       "      <td>8.000000</td>\n",
       "      <td>6.000000</td>\n",
       "      <td>512.329200</td>\n",
       "    </tr>\n",
       "  </tbody>\n",
       "</table>\n",
       "</div>"
      ],
      "text/plain": [
       "       PassengerId    Survived      Pclass         Age       SibSp  \\\n",
       "count   891.000000  891.000000  891.000000  714.000000  891.000000   \n",
       "mean    446.000000    0.383838    2.308642   29.699118    0.523008   \n",
       "std     257.353842    0.486592    0.836071   14.526497    1.102743   \n",
       "min       1.000000    0.000000    1.000000    0.420000    0.000000   \n",
       "25%     223.500000    0.000000    2.000000   20.125000    0.000000   \n",
       "50%     446.000000    0.000000    3.000000   28.000000    0.000000   \n",
       "75%     668.500000    1.000000    3.000000   38.000000    1.000000   \n",
       "max     891.000000    1.000000    3.000000   80.000000    8.000000   \n",
       "\n",
       "            Parch        Fare  \n",
       "count  891.000000  891.000000  \n",
       "mean     0.381594   32.204208  \n",
       "std      0.806057   49.693429  \n",
       "min      0.000000    0.000000  \n",
       "25%      0.000000    7.910400  \n",
       "50%      0.000000   14.454200  \n",
       "75%      0.000000   31.000000  \n",
       "max      6.000000  512.329200  "
      ]
     },
     "execution_count": 136,
     "metadata": {},
     "output_type": "execute_result"
    }
   ],
   "source": [
    "df.describe()"
   ]
  },
  {
   "cell_type": "code",
   "execution_count": 64,
   "id": "ce4401e7-1eb4-432d-b9be-245c5a62d30b",
   "metadata": {},
   "outputs": [],
   "source": [
    "total_rows = df.shape[0]"
   ]
  },
  {
   "cell_type": "markdown",
   "id": "13d7d21a-dc7d-4c74-87a5-cc79dff1c84a",
   "metadata": {},
   "source": [
    "При расчете процента детей, пассажиров возраст которых не указан считаем взрослыми"
   ]
  },
  {
   "cell_type": "code",
   "execution_count": 82,
   "id": "fb888218-fa4d-4918-ad73-9c3bc0cfce3c",
   "metadata": {},
   "outputs": [
    {
     "name": "stdout",
     "output_type": "stream",
     "text": [
      "Детей: 12.68%\n"
     ]
    }
   ],
   "source": [
    "children = df[df[\"Age\"]<18][\"Age\"].count()\n",
    "children_ratio = round(children / total_rows * 100, 2)\n",
    "print(\"Детей: \"+str(children_ratio)+\"%\")"
   ]
  },
  {
   "cell_type": "code",
   "execution_count": 83,
   "id": "b99b2ea6-cef3-4d80-881c-104ce765cf6a",
   "metadata": {},
   "outputs": [
    {
     "name": "stdout",
     "output_type": "stream",
     "text": [
      "Мужчин: 64.76%\n",
      "Женщин: 35.24%\n"
     ]
    }
   ],
   "source": [
    "males = df[df[\"Sex\"]==\"male\"][\"Sex\"].count()\n",
    "males_ratio = round(males / total_rows * 100, 2)\n",
    "\n",
    "females = df[df[\"Sex\"]==\"female\"][\"Sex\"].count()\n",
    "females_ratio = round(females / total_rows * 100, 2)\n",
    "\n",
    "print(\"Мужчин: \"+str(males_ratio)+\"%\", \"Женщин: \"+str(females_ratio)+\"%\", sep=\"\\n\")"
   ]
  },
  {
   "cell_type": "markdown",
   "id": "36a6d445-fed5-4f2a-9a2e-2df9235030ff",
   "metadata": {
    "tags": []
   },
   "source": [
    "# Normal\n",
    "\n",
    "Посчитать по скольким людям нет информации (пола или возраста)\n",
    "\n",
    "Вывести гистограмму по возрасту пассажиров\n",
    "\n",
    "Посчитать какой процент мужин и женщин выжили, какой процент детей выжили. \n",
    "\n",
    "Посчитать [корреляцию](https://pandas.pydata.org/docs/reference/api/pandas.DataFrame.corr.html) между возрастом и выживаемостью, полом и выживаемостью\n"
   ]
  },
  {
   "cell_type": "markdown",
   "id": "74fb6baf-a79e-4928-8b7e-0e0cfb1476cc",
   "metadata": {
    "tags": []
   },
   "source": [
    "## Решение"
   ]
  },
  {
   "cell_type": "markdown",
   "id": "8812a954-be2a-4881-b92d-706605032ee7",
   "metadata": {
    "jp-MarkdownHeadingCollapsed": true,
    "tags": []
   },
   "source": [
    "### Посмотрим, по каким колонкам нет данных:"
   ]
  },
  {
   "cell_type": "code",
   "execution_count": 67,
   "id": "f028780d-5d42-436b-ae4f-bc1364099775",
   "metadata": {},
   "outputs": [
    {
     "data": {
      "text/plain": [
       "PassengerId    False\n",
       "Survived       False\n",
       "Pclass         False\n",
       "Name           False\n",
       "Sex            False\n",
       "Age             True\n",
       "SibSp          False\n",
       "Parch          False\n",
       "Ticket         False\n",
       "Fare           False\n",
       "Cabin           True\n",
       "Embarked        True\n",
       "dtype: bool"
      ]
     },
     "execution_count": 67,
     "metadata": {},
     "output_type": "execute_result"
    }
   ],
   "source": [
    "df.isna().any()"
   ]
  },
  {
   "cell_type": "code",
   "execution_count": 81,
   "id": "9192ad8c-cba6-41a9-9d68-385df7f33799",
   "metadata": {},
   "outputs": [],
   "source": [
    "age_na = total_rows - df[\"Age\"].count()\n",
    "cabin_na = total_rows - df[\"Cabin\"].count()\n",
    "embarked_na = total_rows - df[\"Embarked\"].count()"
   ]
  },
  {
   "cell_type": "code",
   "execution_count": 80,
   "id": "dc1b9138-8edb-4078-a2b5-c16240ae6a19",
   "metadata": {},
   "outputs": [
    {
     "name": "stdout",
     "output_type": "stream",
     "text": [
      "Age NA: 177\n",
      "Cabin NA: 687\n",
      "Embarked NA: 2\n"
     ]
    }
   ],
   "source": [
    "print(\"Age NA: \"+str(age_na), \"Cabin NA: \"+str(cabin_na), \"Embarked NA: \"+str(embarked_na), sep=\"\\n\")"
   ]
  },
  {
   "cell_type": "markdown",
   "id": "9b002501-7bba-4045-9f06-d1b1c934e434",
   "metadata": {
    "jp-MarkdownHeadingCollapsed": true,
    "tags": []
   },
   "source": [
    "### Гистограмма по возрасту пассажиров"
   ]
  },
  {
   "cell_type": "code",
   "execution_count": 43,
   "id": "b52279b3-38c6-41ff-9b70-bf59df97f5b6",
   "metadata": {},
   "outputs": [],
   "source": [
    "import matplotlib.pyplot as plt"
   ]
  },
  {
   "cell_type": "code",
   "execution_count": 47,
   "id": "9ac505c1-7b1b-47fb-909f-a0dec37f0d96",
   "metadata": {},
   "outputs": [
    {
     "data": {
      "image/png": "[encoded data removed]",
      "text/plain": [
       "<Figure size 432x288 with 1 Axes>"
      ]
     },
     "metadata": {
      "needs_background": "light"
     },
     "output_type": "display_data"
    }
   ],
   "source": [
    "age_hist = plt.hist(df[\"Age\"], bins = 20)"
   ]
  },
  {
   "cell_type": "markdown",
   "id": "a026ce7f-6c8b-4054-9b6f-cbc286b9e911",
   "metadata": {
    "tags": []
   },
   "source": [
    "### Выживаемость"
   ]
  },
  {
   "cell_type": "code",
   "execution_count": 85,
   "id": "196ab374-394a-4448-9653-d38da0207748",
   "metadata": {},
   "outputs": [
    {
     "name": "stdout",
     "output_type": "stream",
     "text": [
      "Выжило детей: 53.98%\n"
     ]
    }
   ],
   "source": [
    "children_survive = df[(df[\"Survived\"]==1)&(df[\"Age\"]<18)][\"PassengerId\"].count()\n",
    "child_survive_ratio = round(children_survive / children * 100, 2)\n",
    "print(\"Выжило детей: \"+ str(child_survive_ratio)+ \"%\")"
   ]
  },
  {
   "cell_type": "code",
   "execution_count": 86,
   "id": "24a30bb8-4208-47d9-8ee4-17fb2401749e",
   "metadata": {},
   "outputs": [
    {
     "name": "stdout",
     "output_type": "stream",
     "text": [
      "Выжило мужчин: 18.89%\n"
     ]
    }
   ],
   "source": [
    "male_survive = df[(df[\"Survived\"]==1)&(df[\"Sex\"]==\"male\")][\"PassengerId\"].count()\n",
    "male_survive_ratio = round(male_survive / males * 100, 2)\n",
    "print(\"Выжило мужчин: \"+ str(male_survive_ratio)+ \"%\")"
   ]
  },
  {
   "cell_type": "code",
   "execution_count": 88,
   "id": "92edf8ee-107b-4ec6-9b45-189ef17a07f1",
   "metadata": {},
   "outputs": [
    {
     "name": "stdout",
     "output_type": "stream",
     "text": [
      "Выжило женщин: 40.38%\n"
     ]
    }
   ],
   "source": [
    "female_survive = df[(df[\"Survived\"]==1)&(df[\"Sex\"]==\"female\")][\"PassengerId\"].count()\n",
    "female_survive_ratio = round(female_survive / males * 100, 2)\n",
    "print(\"Выжило женщин: \"+ str(female_survive_ratio)+ \"%\")"
   ]
  },
  {
   "cell_type": "code",
   "execution_count": 107,
   "id": "f1f3830c-df3e-433e-8dff-2927af3e2384",
   "metadata": {},
   "outputs": [],
   "source": [
    "df[\"isFemale\"] = df[\"Sex\"]==\"female\"\n",
    "df[\"isMale\"] = df[\"Sex\"]==\"male\"\n",
    "df[\"isChild\"] = df[\"Age\"]<18"
   ]
  },
  {
   "cell_type": "code",
   "execution_count": 113,
   "id": "49f29805-c1a3-4171-954d-b0d3a871e96d",
   "metadata": {},
   "outputs": [
    {
     "name": "stdout",
     "output_type": "stream",
     "text": [
      "Corr survive / female: 0.5433513806577552\n",
      "Corr survive / male: -0.543351380657755\n",
      "Corr survive / child: 0.12223897377570005\n"
     ]
    }
   ],
   "source": [
    "print(\"Corr survive / female: \" + str(df[\"Survived\"].corr(df[\"isFemale\"])))\n",
    "print(\"Corr survive / male: \" + str(df[\"Survived\"].corr(df[\"isMale\"])))\n",
    "print(\"Corr survive / child: \"+ str(df[\"Survived\"].corr(df[\"isChild\"])))"
   ]
  },
  {
   "cell_type": "markdown",
   "id": "7dadad44-9f0d-425f-8275-4231d1e9e577",
   "metadata": {
    "tags": []
   },
   "source": [
    "# Hard\n",
    "\n",
    "Сделав вывод по данным, написать простейшую модель, которая будет определять по входным данным, выжил ли человек. Проверить свою гипотезу на данных train.csv, оценить успешность модели. Прогнать модель на файле test.csv\n",
    "\n",
    "Загрузить решение на kaggle.\n",
    "\n",
    "Решение представляет из себя файл с 2 колонками: PassengerId и Survived. Id пассажиров и их данные нужно брать из файла test.csv."
   ]
  },
  {
   "cell_type": "markdown",
   "id": "abe5b16a-b6f2-4405-b0f0-cbaca51b9b19",
   "metadata": {},
   "source": [
    "## Решение"
   ]
  },
  {
   "cell_type": "markdown",
   "id": "603bfa1e-2831-42da-b68b-78a3f652e2dc",
   "metadata": {},
   "source": [
    "Распределение выживших по классам"
   ]
  },
  {
   "cell_type": "code",
   "execution_count": 267,
   "id": "6b2c7a50-68b2-4721-848f-e9323998f80a",
   "metadata": {},
   "outputs": [
    {
     "data": {
      "text/plain": [
       "<AxesSubplot:>"
      ]
     },
     "execution_count": 267,
     "metadata": {},
     "output_type": "execute_result"
    },
    {
     "data": {
      "image/png": "[encoded data removed]",
      "text/plain": [
       "<Figure size 432x288 with 1 Axes>"
      ]
     },
     "metadata": {
      "needs_background": "light"
     },
     "output_type": "display_data"
    }
   ],
   "source": [
    "df[(df[\"Survived\"]==1)][\"Pclass\"].hist()"
   ]
  },
  {
   "cell_type": "code",
   "execution_count": 268,
   "id": "994c95ff-55f1-431d-9741-f1bd70d9231a",
   "metadata": {},
   "outputs": [
    {
     "data": {
      "text/plain": [
       "<AxesSubplot:>"
      ]
     },
     "execution_count": 268,
     "metadata": {},
     "output_type": "execute_result"
    },
    {
     "data": {
      "image/png": "[encoded data removed]",
      "text/plain": [
       "<Figure size 432x288 with 1 Axes>"
      ]
     },
     "metadata": {
      "needs_background": "light"
     },
     "output_type": "display_data"
    }
   ],
   "source": [
    "df[(df[\"Survived\"]==0)][\"Pclass\"].hist()"
   ]
  },
  {
   "cell_type": "code",
   "execution_count": 143,
   "id": "01f6d984-a1d6-4d33-a575-df0856f2d4a4",
   "metadata": {},
   "outputs": [],
   "source": [
    "def survived_by_class(Pclass):\n",
    "    return df[(df[\"Pclass\"]==Pclass)&(df[\"Survived\"]==1)][\"PassengerId\"].count() / df[(df[\"Pclass\"]==Pclass)][\"PassengerId\"].count()\n",
    "    \n",
    "    "
   ]
  },
  {
   "cell_type": "code",
   "execution_count": 144,
   "id": "b8a82be7-d495-4008-8d33-8ec3cb8f158c",
   "metadata": {},
   "outputs": [
    {
     "data": {
      "text/plain": [
       "0.6296296296296297"
      ]
     },
     "execution_count": 144,
     "metadata": {},
     "output_type": "execute_result"
    }
   ],
   "source": [
    "survived_by_class(1)"
   ]
  },
  {
   "cell_type": "code",
   "execution_count": 145,
   "id": "3a0eb3ca-b12a-4186-9cc9-87a06f3d9730",
   "metadata": {},
   "outputs": [
    {
     "data": {
      "text/plain": [
       "0.47282608695652173"
      ]
     },
     "execution_count": 145,
     "metadata": {},
     "output_type": "execute_result"
    }
   ],
   "source": [
    "survived_by_class(2)"
   ]
  },
  {
   "cell_type": "code",
   "execution_count": 146,
   "id": "5bb41855-1964-4d53-bb34-2b80316113be",
   "metadata": {},
   "outputs": [
    {
     "data": {
      "text/plain": [
       "0.24236252545824846"
      ]
     },
     "execution_count": 146,
     "metadata": {},
     "output_type": "execute_result"
    }
   ],
   "source": [
    "survived_by_class(3)"
   ]
  },
  {
   "cell_type": "markdown",
   "id": "c795351c-5894-4997-976d-7312b6a6e8a5",
   "metadata": {},
   "source": [
    "Распределение выживших по возрастам"
   ]
  },
  {
   "cell_type": "code",
   "execution_count": 228,
   "id": "4c183537-0cab-408f-b718-276bcb890da3",
   "metadata": {},
   "outputs": [
    {
     "data": {
      "text/plain": [
       "<AxesSubplot:>"
      ]
     },
     "execution_count": 228,
     "metadata": {},
     "output_type": "execute_result"
    },
    {
     "data": {
      "image/png": "[encoded data removed]",
      "text/plain": [
       "<Figure size 432x288 with 1 Axes>"
      ]
     },
     "metadata": {
      "needs_background": "light"
     },
     "output_type": "display_data"
    }
   ],
   "source": [
    "df[(df[\"Survived\"]==0)][\"Age\"].hist(bins=10)"
   ]
  },
  {
   "cell_type": "markdown",
   "id": "75f40b5c-591d-42f5-8929-188445141496",
   "metadata": {},
   "source": [
    "Весовой расчет по выживаемости, весовые коэффициенты эмпирически из головы"
   ]
  },
  {
   "cell_type": "code",
   "execution_count": 251,
   "id": "376d80cb-1c4b-4b7b-9b44-6c494aea8487",
   "metadata": {},
   "outputs": [],
   "source": [
    "def my_survive(df_row):\n",
    "    val = 0\n",
    "    if df_row[\"Age\"]<5:\n",
    "        val += 20\n",
    "        \n",
    "    if df_row[\"Age\"]<10:\n",
    "        val += 20\n",
    "        \n",
    "    if df_row[\"Age\"]<18:\n",
    "        val += 15\n",
    "\n",
    "    if df_row[\"Age\"]<30:\n",
    "        val += 10\n",
    "        \n",
    "    if df_row[\"Age\"]>70:\n",
    "        val += 20\n",
    "        \n",
    "    if df_row[\"Pclass\"] == 1:\n",
    "        val += 40\n",
    "    \n",
    "    if df_row[\"Pclass\"] == 2:\n",
    "        val += 20\n",
    "        \n",
    "    if (df_row[\"Pclass\"] == 3)&(df_row[\"Age\"]<40):\n",
    "        val -= 20\n",
    "        \n",
    "    if df_row[\"Sex\"] == 'female':\n",
    "        val += 40\n",
    "        \n",
    "    return 1 if val>50 else 0       \n",
    "    "
   ]
  },
  {
   "cell_type": "markdown",
   "id": "b251717d-4cbf-4236-9e6c-40be4f3644c6",
   "metadata": {},
   "source": [
    "Проверим качество модели на учебной выборке"
   ]
  },
  {
   "cell_type": "code",
   "execution_count": 248,
   "id": "a179b270-ecef-479b-8c90-bbe5ffcf99f4",
   "metadata": {},
   "outputs": [],
   "source": [
    "df[\"Msurvived\"] = df.apply(my_survive, axis=1)"
   ]
  },
  {
   "cell_type": "code",
   "execution_count": 255,
   "id": "ca44e9ec-3f87-4395-8a5f-7ee51ca52fd4",
   "metadata": {},
   "outputs": [
    {
     "data": {
      "text/plain": [
       "0.8013468013468014"
      ]
     },
     "execution_count": 255,
     "metadata": {},
     "output_type": "execute_result"
    }
   ],
   "source": [
    "df[df[\"Msurvived\"]==df[\"Survived\"]][\"PassengerId\"].count() / total_rows"
   ]
  },
  {
   "cell_type": "markdown",
   "id": "b8554dd4-bb34-4785-a1a7-5bc9c39e33ac",
   "metadata": {},
   "source": [
    "Сформируем файл для загрузки на kaggle по тестовой выборке"
   ]
  },
  {
   "cell_type": "code",
   "execution_count": 257,
   "id": "c0fd0255-4678-47d5-9779-27b2a39d2a08",
   "metadata": {},
   "outputs": [
    {
     "data": {
      "text/html": [
       "<div>\n",
       "<style scoped>\n",
       "    .dataframe tbody tr th:only-of-type {\n",
       "        vertical-align: middle;\n",
       "    }\n",
       "\n",
       "    .dataframe tbody tr th {\n",
       "        vertical-align: top;\n",
       "    }\n",
       "\n",
       "    .dataframe thead th {\n",
       "        text-align: right;\n",
       "    }\n",
       "</style>\n",
       "<table border=\"1\" class=\"dataframe\">\n",
       "  <thead>\n",
       "    <tr style=\"text-align: right;\">\n",
       "      <th></th>\n",
       "      <th>PassengerId</th>\n",
       "      <th>Pclass</th>\n",
       "      <th>Name</th>\n",
       "      <th>Sex</th>\n",
       "      <th>Age</th>\n",
       "      <th>SibSp</th>\n",
       "      <th>Parch</th>\n",
       "      <th>Ticket</th>\n",
       "      <th>Fare</th>\n",
       "      <th>Cabin</th>\n",
       "      <th>Embarked</th>\n",
       "    </tr>\n",
       "  </thead>\n",
       "  <tbody>\n",
       "    <tr>\n",
       "      <th>0</th>\n",
       "      <td>892</td>\n",
       "      <td>3</td>\n",
       "      <td>Kelly, Mr. James</td>\n",
       "      <td>male</td>\n",
       "      <td>34.5</td>\n",
       "      <td>0</td>\n",
       "      <td>0</td>\n",
       "      <td>330911</td>\n",
       "      <td>7.8292</td>\n",
       "      <td>NaN</td>\n",
       "      <td>Q</td>\n",
       "    </tr>\n",
       "  </tbody>\n",
       "</table>\n",
       "</div>"
      ],
      "text/plain": [
       "   PassengerId  Pclass              Name   Sex   Age  SibSp  Parch  Ticket  \\\n",
       "0          892       3  Kelly, Mr. James  male  34.5      0      0  330911   \n",
       "\n",
       "     Fare Cabin Embarked  \n",
       "0  7.8292   NaN        Q  "
      ]
     },
     "execution_count": 257,
     "metadata": {},
     "output_type": "execute_result"
    }
   ],
   "source": [
    "df_test = pd.read_csv(\"../hw_data/titanic/test.csv\");\n",
    "df_test.head(1)"
   ]
  },
  {
   "cell_type": "code",
   "execution_count": 261,
   "id": "651705f3-4a31-420f-b3f9-e2a2380a7b76",
   "metadata": {},
   "outputs": [],
   "source": [
    "df_test[\"Survived\"] = df_test.apply(my_survive, axis=1)"
   ]
  },
  {
   "cell_type": "code",
   "execution_count": 264,
   "id": "fdf0a002-b8f5-4183-bb39-d5632ae04edc",
   "metadata": {},
   "outputs": [],
   "source": [
    "df_test.to_csv(\"../hw_data/titanic/submit.csv\", index=False, columns=[\"PassengerId\", \"Survived\"])"
   ]
  }
 ],
 "metadata": {
  "kernelspec": {
   "display_name": "Python 3 (ipykernel)",
   "language": "python",
   "name": "python3"
  },
  "language_info": {
   "codemirror_mode": {
    "name": "ipython",
    "version": 3
   },
   "file_extension": ".py",
   "mimetype": "text/x-python",
   "name": "python",
   "nbconvert_exporter": "python",
   "pygments_lexer": "ipython3",
   "version": "3.9.7"
  }
 },
 "nbformat": 4,
 "nbformat_minor": 5
}
