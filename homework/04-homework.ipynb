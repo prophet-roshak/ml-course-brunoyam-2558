{
 "cells": [
  {
   "cell_type": "code",
   "execution_count": 1,
   "id": "d0c5127c-a7e2-49f3-9e36-b3eb49e2769f",
   "metadata": {},
   "outputs": [],
   "source": [
    "import pandas as pd"
   ]
  },
  {
   "cell_type": "markdown",
   "id": "54157461-fa14-4bf8-872e-c202fa9eb50a",
   "metadata": {},
   "source": [
    "# Домашнее задание\n",
    "\n",
    "Для выполнения задач Easy и Normal опять используем данные Титаника\n",
    "\n",
    "## Easy\n",
    "\n",
    "Вычислить вероятность выживания, если пассажиру:\n",
    "\n",
    "- от 0 до 25 лет\n",
    "- от 25 до 50 лет\n",
    "- от 50 лет и старше"
   ]
  },
  {
   "cell_type": "code",
   "execution_count": 2,
   "id": "1a0d58e5-9c05-425e-b086-85fa821f17eb",
   "metadata": {},
   "outputs": [
    {
     "name": "stdout",
     "output_type": "stream",
     "text": [
      "(891, 12)\n"
     ]
    },
    {
     "data": {
      "text/html": [
       "<div>\n",
       "<style scoped>\n",
       "    .dataframe tbody tr th:only-of-type {\n",
       "        vertical-align: middle;\n",
       "    }\n",
       "\n",
       "    .dataframe tbody tr th {\n",
       "        vertical-align: top;\n",
       "    }\n",
       "\n",
       "    .dataframe thead th {\n",
       "        text-align: right;\n",
       "    }\n",
       "</style>\n",
       "<table border=\"1\" class=\"dataframe\">\n",
       "  <thead>\n",
       "    <tr style=\"text-align: right;\">\n",
       "      <th></th>\n",
       "      <th>PassengerId</th>\n",
       "      <th>Survived</th>\n",
       "      <th>Pclass</th>\n",
       "      <th>Name</th>\n",
       "      <th>Sex</th>\n",
       "      <th>Age</th>\n",
       "      <th>SibSp</th>\n",
       "      <th>Parch</th>\n",
       "      <th>Ticket</th>\n",
       "      <th>Fare</th>\n",
       "      <th>Cabin</th>\n",
       "      <th>Embarked</th>\n",
       "    </tr>\n",
       "  </thead>\n",
       "  <tbody>\n",
       "    <tr>\n",
       "      <th>0</th>\n",
       "      <td>1</td>\n",
       "      <td>0</td>\n",
       "      <td>3</td>\n",
       "      <td>Braund, Mr. Owen Harris</td>\n",
       "      <td>male</td>\n",
       "      <td>22.0</td>\n",
       "      <td>1</td>\n",
       "      <td>0</td>\n",
       "      <td>A/5 21171</td>\n",
       "      <td>7.25</td>\n",
       "      <td>NaN</td>\n",
       "      <td>S</td>\n",
       "    </tr>\n",
       "  </tbody>\n",
       "</table>\n",
       "</div>"
      ],
      "text/plain": [
       "   PassengerId  Survived  Pclass                     Name   Sex   Age  SibSp  \\\n",
       "0            1         0       3  Braund, Mr. Owen Harris  male  22.0      1   \n",
       "\n",
       "   Parch     Ticket  Fare Cabin Embarked  \n",
       "0      0  A/5 21171  7.25   NaN        S  "
      ]
     },
     "execution_count": 2,
     "metadata": {},
     "output_type": "execute_result"
    }
   ],
   "source": [
    "df = pd.read_csv(\"../hw_data/titanic/train.csv\")\n",
    "print(df.shape)\n",
    "df.head(1)"
   ]
  },
  {
   "cell_type": "markdown",
   "id": "5293616a-aed1-4144-88d4-74f626de4f34",
   "metadata": {},
   "source": [
    "Вероятность выживания до 25л:\n",
    "\n",
    "Вероятность попадания в группу 0-25л * выживание в этой группе"
   ]
  },
  {
   "cell_type": "code",
   "execution_count": 27,
   "id": "31029400-cfbc-4560-a4c4-28824b2d872c",
   "metadata": {},
   "outputs": [],
   "source": [
    "def get_P(df, filtered_df):\n",
    "    P = filtered_df[\"PassengerId\"].count() / df[\"PassengerId\"].count()\n",
    "    Ps = (filtered_df[filtered_df[\"Survived\"]==1][\"PassengerId\"].count() / filtered_df[\"PassengerId\"].count()) * P\n",
    "    return Ps\n"
   ]
  },
  {
   "cell_type": "code",
   "execution_count": 28,
   "id": "b4c30e45-b48b-4802-a37d-d193acb7dd04",
   "metadata": {},
   "outputs": [
    {
     "name": "stdout",
     "output_type": "stream",
     "text": [
      "0.1324354657687991\n"
     ]
    }
   ],
   "source": [
    "df_lt25 = df[df[\"Age\"]<25]\n",
    "Pslt25 = get_P(df, df_lt25)\n",
    "print (Pslt25)"
   ]
  },
  {
   "cell_type": "code",
   "execution_count": 29,
   "id": "bca3cdf4-85b1-4a06-a54f-23544a6f544a",
   "metadata": {},
   "outputs": [
    {
     "name": "stdout",
     "output_type": "stream",
     "text": [
      "0.16273849607182939\n"
     ]
    }
   ],
   "source": [
    "df_25_50 = df[(df[\"Age\"]>=25)&(df[\"Age\"]<50)]\n",
    "Ps25_50 = get_P(df, df_25_50)\n",
    "print (Ps25_50)"
   ]
  },
  {
   "cell_type": "code",
   "execution_count": 30,
   "id": "07b0470f-d98c-4108-8efa-17ffb1f4d6e4",
   "metadata": {},
   "outputs": [
    {
     "name": "stdout",
     "output_type": "stream",
     "text": [
      "0.0303030303030303\n"
     ]
    }
   ],
   "source": [
    "dfgt50 = df[(df[\"Age\"]>=50)]\n",
    "Psgt50 = get_P(df, dfgt50)\n",
    "print (Psgt50)"
   ]
  },
  {
   "cell_type": "markdown",
   "id": "a73beeff-30d0-45e4-8119-2b23905fff3a",
   "metadata": {},
   "source": [
    "\n",
    "## Normal\n",
    "\n",
    "Вычислить с какой вероятностью пассажир женского пола, если известно, что он выжил (использовать теорему Байеса)"
   ]
  },
  {
   "cell_type": "code",
   "execution_count": 36,
   "id": "00000c64-29f9-4c1b-920d-9251a84bd465",
   "metadata": {},
   "outputs": [],
   "source": [
    "count_w = df[df[\"Sex\"]=='female'][\"PassengerId\"].count()\n",
    "count_sw = df[(df[\"Sex\"]=='female')&(df[\"Survived\"]==1)][\"PassengerId\"].count()\n",
    "count_s = df[(df[\"Survived\"]==1)][\"PassengerId\"].count()\n",
    "count_tot = df[\"PassengerId\"].count()"
   ]
  },
  {
   "cell_type": "code",
   "execution_count": 40,
   "id": "433b7b64-1404-4d5d-8b9f-1cb5771d356a",
   "metadata": {},
   "outputs": [
    {
     "name": "stdout",
     "output_type": "stream",
     "text": [
      "0.5634022629730784\n"
     ]
    }
   ],
   "source": [
    "Pw =  count_w / count_tot\n",
    "Psw = count_sw / count_s\n",
    "Ps = count_s / count_tot\n",
    "Pfull = Pw * Psw\n",
    "\n",
    "Piswoman = (Pw * Ps) / Pfull\n",
    "print (Piswoman)"
   ]
  },
  {
   "cell_type": "markdown",
   "id": "4db4e6a2-b54a-4a5b-a710-d92d289a7f22",
   "metadata": {},
   "source": [
    "## Hard\n",
    "\n",
    "Закон распределения задается функцией плотности \n",
    "\n",
    "$ f(x) = \\lambda e^{-\\lambda x}, x > 0 $\n",
    "\n",
    "$ f(x) = 0, x <= 0 $\n",
    "\n",
    "Найти вероятность того, что событие произойдет при $x \\in [1, 2]$\n",
    "\n",
    "P.S. в scipy есть функция для интегрирования функции\n"
   ]
  },
  {
   "cell_type": "code",
   "execution_count": null,
   "id": "fdb3dfdd-532a-4cfa-9871-8d25c0e426e0",
   "metadata": {},
   "outputs": [],
   "source": []
  }
 ],
 "metadata": {
  "kernelspec": {
   "display_name": "Python 3 (ipykernel)",
   "language": "python",
   "name": "python3"
  },
  "language_info": {
   "codemirror_mode": {
    "name": "ipython",
    "version": 3
   },
   "file_extension": ".py",
   "mimetype": "text/x-python",
   "name": "python",
   "nbconvert_exporter": "python",
   "pygments_lexer": "ipython3",
   "version": "3.9.7"
  }
 },
 "nbformat": 4,
 "nbformat_minor": 5
}
